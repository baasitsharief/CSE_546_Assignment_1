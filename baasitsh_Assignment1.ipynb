{
  "nbformat": 4,
  "nbformat_minor": 0,
  "metadata": {
    "colab": {
      "name": "baasitsh_Assignment1.ipynb",
      "provenance": []
    },
    "kernelspec": {
      "name": "python3",
      "display_name": "Python 3"
    },
    "language_info": {
      "name": "python"
    }
  },
  "cells": [
    {
      "cell_type": "code",
      "source": [
        "import numpy as np\n",
        "import matplotlib.pyplot as plt\n",
        "import gym\n",
        "from gym import spaces\n",
        "from google.colab import widgets\n",
        "import time"
      ],
      "metadata": {
        "id": "9j4Qb7nU6RuC"
      },
      "execution_count": 1,
      "outputs": []
    },
    {
      "cell_type": "markdown",
      "source": [
        "## Grid Environment Definition\n",
        "\n",
        "Includes both deterministic and stochastic environments"
      ],
      "metadata": {
        "id": "WWd1YBGbyQF_"
      }
    },
    {
      "cell_type": "code",
      "source": [
        "class GridEnvironment(gym.Env):\n",
        "  metadata = { 'render.modes': []}\n",
        "\n",
        "  def __init__(self, stochastic = False):\n",
        "    '''\n",
        "    Defines the initialization of the environment.\n",
        "\n",
        "    Input\n",
        "    ------\n",
        "    stochastic: [bool] True, if stochastic environment\n",
        "    '''\n",
        "    self.observation_space = spaces.Discrete(15)\n",
        "    self.action_space = spaces.Discrete(4)\n",
        "    self.max_timesteps = 20\n",
        "    self.stochastic = stochastic\n",
        "\n",
        "  def reset(self):\n",
        "    '''\n",
        "    Reset the environment to initial state.\n",
        "\n",
        "    '''\n",
        "    self.timestep = 0\n",
        "    self.agent_pos = [0, 0]\n",
        "    self.goal_pos = [2, 4]\n",
        "    self.hole1_pos = [1,3]\n",
        "    self.hole2_pos = [2,1]\n",
        "    self.candy1_pos = [0,3]\n",
        "    self.candy2_pos = [1,1]\n",
        "    self.state = np.zeros((3, 5))\n",
        "    self.state[tuple(self.agent_pos)] = 1\n",
        "    self.state[tuple(self.hole1_pos)] = 0.25\n",
        "    self.state[tuple(self.hole2_pos)] = 0.25\n",
        "    self.state[tuple(self.candy1_pos)] = 0.75\n",
        "    self.state[tuple(self.candy2_pos)] = 0.75\n",
        "    self.state[tuple(self.goal_pos)] = 0.5\n",
        "    observation = self.state.flatten()\n",
        "    return observation\n",
        "\n",
        "  def step(self, action):\n",
        "    '''\n",
        "    Define an execution of one timestep within the environment\n",
        "\n",
        "    Input\n",
        "    ------\n",
        "    action: [int] action from the action space [0,1,2,3]\n",
        "\n",
        "    Returns\n",
        "    ------\n",
        "    observation, reward, done, info\n",
        "    '''\n",
        "    # self.state = np.random.choice(self.observation_space.n)\n",
        "    info = {}\n",
        "\n",
        "    if(self.stochastic):\n",
        "      info['action_given'] = action\n",
        "      if (np.random.uniform(0,1)<0.9):\n",
        "        action = action\n",
        "      else:\n",
        "        action = np.random.choice(self.action_space)\n",
        "      info['action_taken'] = action\n",
        "\n",
        "    if action == 0:\n",
        "      self.agent_pos[0] += 1\n",
        "    if action == 1:\n",
        "      self.agent_pos[0] -= 1\n",
        "    if action == 2:\n",
        "      self.agent_pos[1] += 1\n",
        "    if action == 3:\n",
        "      self.agent_pos[1] -= 1\n",
        "    \n",
        "    # print(f'before clipping: {self.agent_pos}')\n",
        "    self.agent_pos[0] = np.clip(self.agent_pos[0], 0, 2)\n",
        "    self.agent_pos[1] = np.clip(self.agent_pos[1], 0, 4)\n",
        "    self.agent_pos = np.array(self.agent_pos)\n",
        "    # print(f'after clipping: {self.agent_pos}')\n",
        "    self.state = np.zeros((3,5))\n",
        "    self.state[tuple(self.candy1_pos)] = 0.75\n",
        "    self.state[tuple(self.candy2_pos)] = 0.75\n",
        "    self.state[tuple(self.hole1_pos)] = 0.25\n",
        "    self.state[tuple(self.hole2_pos)] = 0.25\n",
        "    self.state[tuple(self.goal_pos)] = 0.5\n",
        "\n",
        "    reward = 0\n",
        "    if (self.agent_pos == self.goal_pos).all():\n",
        "      reward = +10 #deterministic reward\n",
        "      self.state[tuple(self.agent_pos)] = 0.9\n",
        "    elif (self.agent_pos == self.candy1_pos).all():\n",
        "      reward = +5 #deterministic reward\n",
        "      if(self.stochastic):\n",
        "        if(np.random.uniform(0,1)<0.50):\n",
        "          reward = +2\n",
        "        else:\n",
        "          reward = +5\n",
        "      self.state[tuple(self.agent_pos)] = 1\n",
        "      self.state[tuple(self.candy2_pos)] = 0.75\n",
        "    elif (self.agent_pos == self.candy2_pos).all():\n",
        "      reward = +7 #deterministic reward\n",
        "      if(self.stochastic):\n",
        "        if(np.random.uniform(0,1)<0.50):\n",
        "          reward = +2\n",
        "        else:\n",
        "          reward = +7\n",
        "      self.state[tuple(self.candy1_pos)] = 0.75\n",
        "      self.state[tuple(self.agent_pos)] = 1\n",
        "    elif (self.agent_pos == self.hole1_pos).all():\n",
        "      reward = -3 #deterministic reward\n",
        "      if(self.stochastic):\n",
        "        if(np.random.uniform(0,1)<0.9):\n",
        "          reward = -3\n",
        "        else:\n",
        "          reward = +6\n",
        "      self.state[tuple(self.hole1_pos)] = 1\n",
        "      self.state[tuple(self.hole2_pos)] = 0.25\n",
        "    elif(self.agent_pos == self.hole2_pos).all():\n",
        "      reward = -3 #deterministic reward\n",
        "      if(self.stochastic):\n",
        "        if(np.random.uniform(0,1)<0.9):\n",
        "          reward = -3\n",
        "        else:\n",
        "          reward = +6\n",
        "      self.state[tuple(self.hole1_pos)] = 0.25\n",
        "      self.state[tuple(self.hole2_pos)] = 1\n",
        "    else:\n",
        "      self.state[tuple(self.agent_pos)] = 1\n",
        "      self.state[tuple(self.candy1_pos)] = 0.75\n",
        "      self.state[tuple(self.candy2_pos)] = 0.75\n",
        "      self.state[tuple(self.hole1_pos)] = 0.25\n",
        "      self.state[tuple(self.hole2_pos)] = 0.25\n",
        "      self.state[tuple(self.goal_pos)] = 0.5\n",
        "\n",
        "    observation = self.state.flatten()\n",
        "\n",
        "    self.timestep += 1\n",
        "    done = True if ((self.timestep >= self.max_timesteps) or (self.agent_pos == self.goal_pos).all()) else False\n",
        "\n",
        "    return observation, reward, done, info\n",
        "\n",
        "  def render(self):\n",
        "    '''\n",
        "    Render the GridEnvironment\n",
        "    '''\n",
        "    plt.imshow(self.state)"
      ],
      "metadata": {
        "id": "UM3-Q6zv68Ib"
      },
      "execution_count": 2,
      "outputs": []
    },
    {
      "cell_type": "markdown",
      "source": [
        "## Deterministic"
      ],
      "metadata": {
        "id": "cT0zZxxDRh-e"
      }
    },
    {
      "cell_type": "code",
      "source": [
        "env = GridEnvironment()\n",
        "obs = env.reset()\n",
        "env.render()"
      ],
      "metadata": {
        "colab": {
          "base_uri": "https://localhost:8080/",
          "height": 253
        },
        "id": "8Rk7dsV99XZ2",
        "outputId": "eea11385-6fb2-43a1-df24-4502482ecd20"
      },
      "execution_count": 3,
      "outputs": [
        {
          "output_type": "display_data",
          "data": {
            "image/png": "[encoded data removed]",
            "text/plain": [
              "<Figure size 432x288 with 1 Axes>"
            ]
          },
          "metadata": {
            "needs_background": "light"
          }
        }
      ]
    },
    {
      "cell_type": "code",
      "source": [
        "env.reset()\n",
        "actions_given = []\n",
        "rewards = []\n",
        "observations = []\n",
        "action_dict = {\n",
        "    0: 'down',\n",
        "    1: 'up',\n",
        "    2: 'right',\n",
        "    3: 'left',\n",
        "}\n",
        "\n",
        "output_grid = widgets.Grid(1,1)\n",
        "for _ in range(10):\n",
        "  action = np.random.randint(0,4)\n",
        "  observation, reward, done, info = env.step(action)\n",
        "  actions_given.append(action)\n",
        "  rewards.append(reward)\n",
        "  observations.append(observation)\n",
        "  with output_grid.output_to(0,0):\n",
        "    output_grid.clear_cell()\n",
        "    env.render()\n",
        "    print(f'Reward: {reward}, Action taken: {action_dict[action]}')\n",
        "  time.sleep(1)"
      ],
      "metadata": {
        "colab": {
          "base_uri": "https://localhost:8080/",
          "height": 274
        },
        "id": "iYkVISkn9dJp",
        "outputId": "3d3056b6-5c02-415a-dc37-a03ea1c9c66e"
      },
      "execution_count": 4,
      "outputs": [
        {
          "output_type": "display_data",
          "data": {
            "text/html": [
              "<style>\n",
              "       table#id2, #id2 > tbody > tr > th, #id2 > tbody > tr > td {\n",
              "         border: 1px solid lightgray;\n",
              "         border-collapse:collapse;\n",
              "         \n",
              "        }</style>"
            ],
            "text/plain": [
              "<IPython.core.display.HTML object>"
            ]
          },
          "metadata": {}
        },
        {
          "output_type": "display_data",
          "data": {
            "text/html": [
              "<table id=id2><tr><td id=id2-0-0></td></tr></table>"
            ],
            "text/plain": [
              "<IPython.core.display.HTML object>"
            ]
          },
          "metadata": {}
        },
        {
          "output_type": "display_data",
          "data": {
            "application/javascript": [
              "window[\"675a2182-92b5-11ec-9df7-0242ac1c0002\"] = google.colab.output.getActiveOutputArea();\n",
              "//# sourceURL=js_361ff813b5"
            ],
            "text/plain": [
              "<IPython.core.display.Javascript object>"
            ]
          },
          "metadata": {}
        },
        {
          "output_type": "display_data",
          "data": {
            "application/javascript": [
              "window[\"675aa8e6-92b5-11ec-9df7-0242ac1c0002\"] = document.querySelector(\"#id2-0-0\");\n",
              "//# sourceURL=js_1fa8c8f436"
            ],
            "text/plain": [
              "<IPython.core.display.Javascript object>"
            ]
          },
          "metadata": {}
        },
        {
          "output_type": "display_data",
          "data": {
            "application/javascript": [
              "window[\"675b49b8-92b5-11ec-9df7-0242ac1c0002\"] = google.colab.output.setActiveOutputArea(window[\"675aa8e6-92b5-11ec-9df7-0242ac1c0002\"]);\n",
              "//# sourceURL=js_3da097b495"
            ],
            "text/plain": [
              "<IPython.core.display.Javascript object>"
            ]
          },
          "metadata": {}
        },
        {
          "output_type": "display_data",
          "data": {
            "application/javascript": [
              "window[\"677a2f68-92b5-11ec-9df7-0242ac1c0002\"] = google.colab.output.setActiveOutputArea(window[\"675a2182-92b5-11ec-9df7-0242ac1c0002\"]);\n",
              "//# sourceURL=js_cdc8665e93"
            ],
            "text/plain": [
              "<IPython.core.display.Javascript object>"
            ]
          },
          "metadata": {}
        },
        {
          "output_type": "display_data",
          "data": {
            "application/javascript": [
              "window[\"6816664e-92b5-11ec-9df7-0242ac1c0002\"] = google.colab.output.getActiveOutputArea();\n",
              "//# sourceURL=js_6c017cd71f"
            ],
            "text/plain": [
              "<IPython.core.display.Javascript object>"
            ]
          },
          "metadata": {}
        },
        {
          "output_type": "display_data",
          "data": {
            "application/javascript": [
              "window[\"6817b058-92b5-11ec-9df7-0242ac1c0002\"] = document.querySelector(\"#id2-0-0\");\n",
              "//# sourceURL=js_480f840b07"
            ],
            "text/plain": [
              "<IPython.core.display.Javascript object>"
            ]
          },
          "metadata": {}
        },
        {
          "output_type": "display_data",
          "data": {
            "application/javascript": [
              "window[\"6818cbdc-92b5-11ec-9df7-0242ac1c0002\"] = google.colab.output.setActiveOutputArea(window[\"6817b058-92b5-11ec-9df7-0242ac1c0002\"]);\n",
              "//# sourceURL=js_6aa90b110f"
            ],
            "text/plain": [
              "<IPython.core.display.Javascript object>"
            ]
          },
          "metadata": {}
        },
        {
          "output_type": "display_data",
          "data": {
            "application/javascript": [
              "window[\"68495c16-92b5-11ec-9df7-0242ac1c0002\"] = google.colab.output.setActiveOutputArea(window[\"6816664e-92b5-11ec-9df7-0242ac1c0002\"]);\n",
              "//# sourceURL=js_2c07c7fd51"
            ],
            "text/plain": [
              "<IPython.core.display.Javascript object>"
            ]
          },
          "metadata": {}
        },
        {
          "output_type": "display_data",
          "data": {
            "application/javascript": [
              "window[\"68e7f20e-92b5-11ec-9df7-0242ac1c0002\"] = google.colab.output.getActiveOutputArea();\n",
              "//# sourceURL=js_c1b9b7395e"
            ],
            "text/plain": [
              "<IPython.core.display.Javascript object>"
            ]
          },
          "metadata": {}
        },
        {
          "output_type": "display_data",
          "data": {
            "application/javascript": [
              "window[\"68e8fb04-92b5-11ec-9df7-0242ac1c0002\"] = document.querySelector(\"#id2-0-0\");\n",
              "//# sourceURL=js_68b1b523b9"
            ],
            "text/plain": [
              "<IPython.core.display.Javascript object>"
            ]
          },
          "metadata": {}
        },
        {
          "output_type": "display_data",
          "data": {
            "application/javascript": [
              "window[\"68eaabac-92b5-11ec-9df7-0242ac1c0002\"] = google.colab.output.setActiveOutputArea(window[\"68e8fb04-92b5-11ec-9df7-0242ac1c0002\"]);\n",
              "//# sourceURL=js_22c153b66c"
            ],
            "text/plain": [
              "<IPython.core.display.Javascript object>"
            ]
          },
          "metadata": {}
        },
        {
          "output_type": "display_data",
          "data": {
            "application/javascript": [
              "window[\"692562c4-92b5-11ec-9df7-0242ac1c0002\"] = google.colab.output.setActiveOutputArea(window[\"68e7f20e-92b5-11ec-9df7-0242ac1c0002\"]);\n",
              "//# sourceURL=js_0c9bd44e82"
            ],
            "text/plain": [
              "<IPython.core.display.Javascript object>"
            ]
          },
          "metadata": {}
        },
        {
          "output_type": "display_data",
          "data": {
            "application/javascript": [
              "window[\"69c0f144-92b5-11ec-9df7-0242ac1c0002\"] = google.colab.output.getActiveOutputArea();\n",
              "//# sourceURL=js_e239cf6bab"
            ],
            "text/plain": [
              "<IPython.core.display.Javascript object>"
            ]
          },
          "metadata": {}
        },
        {
          "output_type": "display_data",
          "data": {
            "application/javascript": [
              "window[\"69c17cae-92b5-11ec-9df7-0242ac1c0002\"] = document.querySelector(\"#id2-0-0\");\n",
              "//# sourceURL=js_dd1bd2bdc9"
            ],
            "text/plain": [
              "<IPython.core.display.Javascript object>"
            ]
          },
          "metadata": {}
        },
        {
          "output_type": "display_data",
          "data": {
            "application/javascript": [
              "window[\"69c20606-92b5-11ec-9df7-0242ac1c0002\"] = google.colab.output.setActiveOutputArea(window[\"69c17cae-92b5-11ec-9df7-0242ac1c0002\"]);\n",
              "//# sourceURL=js_d4af92eb3c"
            ],
            "text/plain": [
              "<IPython.core.display.Javascript object>"
            ]
          },
          "metadata": {}
        },
        {
          "output_type": "display_data",
          "data": {
            "application/javascript": [
              "window[\"69f10050-92b5-11ec-9df7-0242ac1c0002\"] = google.colab.output.setActiveOutputArea(window[\"69c0f144-92b5-11ec-9df7-0242ac1c0002\"]);\n",
              "//# sourceURL=js_ffb5988892"
            ],
            "text/plain": [
              "<IPython.core.display.Javascript object>"
            ]
          },
          "metadata": {}
        },
        {
          "output_type": "display_data",
          "data": {
            "application/javascript": [
              "window[\"6a8dfb62-92b5-11ec-9df7-0242ac1c0002\"] = google.colab.output.getActiveOutputArea();\n",
              "//# sourceURL=js_52ffc720ee"
            ],
            "text/plain": [
              "<IPython.core.display.Javascript object>"
            ]
          },
          "metadata": {}
        },
        {
          "output_type": "display_data",
          "data": {
            "application/javascript": [
              "window[\"6a8fc69a-92b5-11ec-9df7-0242ac1c0002\"] = document.querySelector(\"#id2-0-0\");\n",
              "//# sourceURL=js_7369ecbb10"
            ],
            "text/plain": [
              "<IPython.core.display.Javascript object>"
            ]
          },
          "metadata": {}
        },
        {
          "output_type": "display_data",
          "data": {
            "application/javascript": [
              "window[\"6a928d80-92b5-11ec-9df7-0242ac1c0002\"] = google.colab.output.setActiveOutputArea(window[\"6a8fc69a-92b5-11ec-9df7-0242ac1c0002\"]);\n",
              "//# sourceURL=js_657747a7f5"
            ],
            "text/plain": [
              "<IPython.core.display.Javascript object>"
            ]
          },
          "metadata": {}
        },
        {
          "output_type": "display_data",
          "data": {
            "application/javascript": [
              "window[\"6ae48068-92b5-11ec-9df7-0242ac1c0002\"] = google.colab.output.setActiveOutputArea(window[\"6a8dfb62-92b5-11ec-9df7-0242ac1c0002\"]);\n",
              "//# sourceURL=js_d825936902"
            ],
            "text/plain": [
              "<IPython.core.display.Javascript object>"
            ]
          },
          "metadata": {}
        },
        {
          "output_type": "display_data",
          "data": {
            "application/javascript": [
              "window[\"6b829604-92b5-11ec-9df7-0242ac1c0002\"] = google.colab.output.getActiveOutputArea();\n",
              "//# sourceURL=js_ab1c255d8c"
            ],
            "text/plain": [
              "<IPython.core.display.Javascript object>"
            ]
          },
          "metadata": {}
        },
        {
          "output_type": "display_data",
          "data": {
            "application/javascript": [
              "window[\"6b83a83c-92b5-11ec-9df7-0242ac1c0002\"] = document.querySelector(\"#id2-0-0\");\n",
              "//# sourceURL=js_26daae535a"
            ],
            "text/plain": [
              "<IPython.core.display.Javascript object>"
            ]
          },
          "metadata": {}
        },
        {
          "output_type": "display_data",
          "data": {
            "application/javascript": [
              "window[\"6b85d74c-92b5-11ec-9df7-0242ac1c0002\"] = google.colab.output.setActiveOutputArea(window[\"6b83a83c-92b5-11ec-9df7-0242ac1c0002\"]);\n",
              "//# sourceURL=js_a20983e33b"
            ],
            "text/plain": [
              "<IPython.core.display.Javascript object>"
            ]
          },
          "metadata": {}
        },
        {
          "output_type": "display_data",
          "data": {
            "application/javascript": [
              "window[\"6bc34032-92b5-11ec-9df7-0242ac1c0002\"] = google.colab.output.setActiveOutputArea(window[\"6b829604-92b5-11ec-9df7-0242ac1c0002\"]);\n",
              "//# sourceURL=js_3d7032dff4"
            ],
            "text/plain": [
              "<IPython.core.display.Javascript object>"
            ]
          },
          "metadata": {}
        },
        {
          "output_type": "display_data",
          "data": {
            "application/javascript": [
              "window[\"6c61be06-92b5-11ec-9df7-0242ac1c0002\"] = google.colab.output.getActiveOutputArea();\n",
              "//# sourceURL=js_f72783a285"
            ],
            "text/plain": [
              "<IPython.core.display.Javascript object>"
            ]
          },
          "metadata": {}
        },
        {
          "output_type": "display_data",
          "data": {
            "application/javascript": [
              "window[\"6c625b40-92b5-11ec-9df7-0242ac1c0002\"] = document.querySelector(\"#id2-0-0\");\n",
              "//# sourceURL=js_5c1e4e4c9a"
            ],
            "text/plain": [
              "<IPython.core.display.Javascript object>"
            ]
          },
          "metadata": {}
        },
        {
          "output_type": "display_data",
          "data": {
            "application/javascript": [
              "window[\"6c631210-92b5-11ec-9df7-0242ac1c0002\"] = google.colab.output.setActiveOutputArea(window[\"6c625b40-92b5-11ec-9df7-0242ac1c0002\"]);\n",
              "//# sourceURL=js_eaf3be395c"
            ],
            "text/plain": [
              "<IPython.core.display.Javascript object>"
            ]
          },
          "metadata": {}
        },
        {
          "output_type": "display_data",
          "data": {
            "application/javascript": [
              "window[\"6c7dbf84-92b5-11ec-9df7-0242ac1c0002\"] = google.colab.output.setActiveOutputArea(window[\"6c61be06-92b5-11ec-9df7-0242ac1c0002\"]);\n",
              "//# sourceURL=js_fe4c37d0a8"
            ],
            "text/plain": [
              "<IPython.core.display.Javascript object>"
            ]
          },
          "metadata": {}
        },
        {
          "output_type": "display_data",
          "data": {
            "application/javascript": [
              "window[\"6d190c6e-92b5-11ec-9df7-0242ac1c0002\"] = google.colab.output.getActiveOutputArea();\n",
              "//# sourceURL=js_a5bd0f3185"
            ],
            "text/plain": [
              "<IPython.core.display.Javascript object>"
            ]
          },
          "metadata": {}
        },
        {
          "output_type": "display_data",
          "data": {
            "application/javascript": [
              "window[\"6d1a04a2-92b5-11ec-9df7-0242ac1c0002\"] = document.querySelector(\"#id2-0-0\");\n",
              "//# sourceURL=js_f615ea8dc7"
            ],
            "text/plain": [
              "<IPython.core.display.Javascript object>"
            ]
          },
          "metadata": {}
        },
        {
          "output_type": "display_data",
          "data": {
            "application/javascript": [
              "window[\"6d1a8a94-92b5-11ec-9df7-0242ac1c0002\"] = google.colab.output.setActiveOutputArea(window[\"6d1a04a2-92b5-11ec-9df7-0242ac1c0002\"]);\n",
              "//# sourceURL=js_c4a55bb5ca"
            ],
            "text/plain": [
              "<IPython.core.display.Javascript object>"
            ]
          },
          "metadata": {}
        },
        {
          "output_type": "display_data",
          "data": {
            "application/javascript": [
              "window[\"6d378ac2-92b5-11ec-9df7-0242ac1c0002\"] = google.colab.output.setActiveOutputArea(window[\"6d190c6e-92b5-11ec-9df7-0242ac1c0002\"]);\n",
              "//# sourceURL=js_4fb6d18c42"
            ],
            "text/plain": [
              "<IPython.core.display.Javascript object>"
            ]
          },
          "metadata": {}
        },
        {
          "output_type": "display_data",
          "data": {
            "application/javascript": [
              "window[\"6dd4f4f6-92b5-11ec-9df7-0242ac1c0002\"] = google.colab.output.getActiveOutputArea();\n",
              "//# sourceURL=js_06adfffa4a"
            ],
            "text/plain": [
              "<IPython.core.display.Javascript object>"
            ]
          },
          "metadata": {}
        },
        {
          "output_type": "display_data",
          "data": {
            "application/javascript": [
              "window[\"6dd54fbe-92b5-11ec-9df7-0242ac1c0002\"] = document.querySelector(\"#id2-0-0\");\n",
              "//# sourceURL=js_b423bf1a82"
            ],
            "text/plain": [
              "<IPython.core.display.Javascript object>"
            ]
          },
          "metadata": {}
        },
        {
          "output_type": "display_data",
          "data": {
            "application/javascript": [
              "window[\"6dd5da2e-92b5-11ec-9df7-0242ac1c0002\"] = google.colab.output.setActiveOutputArea(window[\"6dd54fbe-92b5-11ec-9df7-0242ac1c0002\"]);\n",
              "//# sourceURL=js_9358825d39"
            ],
            "text/plain": [
              "<IPython.core.display.Javascript object>"
            ]
          },
          "metadata": {}
        },
        {
          "output_type": "display_data",
          "data": {
            "application/javascript": [
              "window[\"6df001f6-92b5-11ec-9df7-0242ac1c0002\"] = google.colab.output.setActiveOutputArea(window[\"6dd4f4f6-92b5-11ec-9df7-0242ac1c0002\"]);\n",
              "//# sourceURL=js_42b136fed3"
            ],
            "text/plain": [
              "<IPython.core.display.Javascript object>"
            ]
          },
          "metadata": {}
        },
        {
          "output_type": "display_data",
          "data": {
            "application/javascript": [
              "window[\"6e8adeb0-92b5-11ec-9df7-0242ac1c0002\"] = google.colab.output.getActiveOutputArea();\n",
              "//# sourceURL=js_ee4d634a87"
            ],
            "text/plain": [
              "<IPython.core.display.Javascript object>"
            ]
          },
          "metadata": {}
        },
        {
          "output_type": "display_data",
          "data": {
            "application/javascript": [
              "window[\"6e8b8afe-92b5-11ec-9df7-0242ac1c0002\"] = document.querySelector(\"#id2-0-0\");\n",
              "//# sourceURL=js_0fba98254f"
            ],
            "text/plain": [
              "<IPython.core.display.Javascript object>"
            ]
          },
          "metadata": {}
        },
        {
          "output_type": "display_data",
          "data": {
            "application/javascript": [
              "window[\"6e8cb3fc-92b5-11ec-9df7-0242ac1c0002\"] = google.colab.output.setActiveOutputArea(window[\"6e8b8afe-92b5-11ec-9df7-0242ac1c0002\"]);\n",
              "//# sourceURL=js_68868ede93"
            ],
            "text/plain": [
              "<IPython.core.display.Javascript object>"
            ]
          },
          "metadata": {}
        },
        {
          "output_type": "stream",
          "name": "stdout",
          "text": [
            "Reward: -3, Action taken: right\n"
          ]
        },
        {
          "output_type": "display_data",
          "data": {
            "image/png": "[encoded data removed]",
            "text/plain": [
              "<Figure size 432x288 with 1 Axes>"
            ]
          },
          "metadata": {
            "needs_background": "light"
          }
        },
        {
          "output_type": "display_data",
          "data": {
            "application/javascript": [
              "window[\"6ea6f938-92b5-11ec-9df7-0242ac1c0002\"] = google.colab.output.setActiveOutputArea(window[\"6e8adeb0-92b5-11ec-9df7-0242ac1c0002\"]);\n",
              "//# sourceURL=js_a043776f99"
            ],
            "text/plain": [
              "<IPython.core.display.Javascript object>"
            ]
          },
          "metadata": {}
        }
      ]
    },
    {
      "cell_type": "code",
      "source": [
        "actions_given"
      ],
      "metadata": {
        "colab": {
          "base_uri": "https://localhost:8080/"
        },
        "id": "46P23QM0StSU",
        "outputId": "255f6d1f-33de-4812-bc1a-7e6fdbb1c167"
      },
      "execution_count": 5,
      "outputs": [
        {
          "output_type": "execute_result",
          "data": {
            "text/plain": [
              "[1, 0, 2, 2, 3, 0, 3, 2, 3, 2]"
            ]
          },
          "metadata": {},
          "execution_count": 5
        }
      ]
    },
    {
      "cell_type": "code",
      "source": [
        "rewards"
      ],
      "metadata": {
        "colab": {
          "base_uri": "https://localhost:8080/"
        },
        "id": "vEhzZo6oSwQ_",
        "outputId": "636ae492-9b3c-408b-e169-0425f3a6f70a"
      },
      "execution_count": 6,
      "outputs": [
        {
          "output_type": "execute_result",
          "data": {
            "text/plain": [
              "[0, 0, 7, 0, 7, -3, 0, -3, 0, -3]"
            ]
          },
          "metadata": {},
          "execution_count": 6
        }
      ]
    },
    {
      "cell_type": "markdown",
      "source": [
        "## Stochastic Environment"
      ],
      "metadata": {
        "id": "xT4k8RaNSJo9"
      }
    },
    {
      "cell_type": "code",
      "source": [
        "env = GridEnvironment(stochastic=True)\n",
        "obs = env.reset()\n",
        "env.render()"
      ],
      "metadata": {
        "colab": {
          "base_uri": "https://localhost:8080/",
          "height": 253
        },
        "id": "ZvfRP9BJSG19",
        "outputId": "88adafb1-73d3-4175-d2a8-10a546da41d2"
      },
      "execution_count": 7,
      "outputs": [
        {
          "output_type": "display_data",
          "data": {
            "image/png": "[encoded data removed]",
            "text/plain": [
              "<Figure size 432x288 with 1 Axes>"
            ]
          },
          "metadata": {
            "needs_background": "light"
          }
        }
      ]
    },
    {
      "cell_type": "code",
      "source": [
        "env.reset()\n",
        "actions_given = []\n",
        "actions_taken = []\n",
        "rewards = []\n",
        "observations = []\n",
        "action_dict = {\n",
        "    0: 'down',\n",
        "    1: 'up',\n",
        "    2: 'right',\n",
        "    3: 'left',\n",
        "}\n",
        "\n",
        "output_grid = widgets.Grid(1,1)\n",
        "for _ in range(10):\n",
        "  action = np.random.randint(0,4)\n",
        "  observation, reward, done, info = env.step(action)\n",
        "  action_taken = info['action_taken']\n",
        "  actions_given.append(action)\n",
        "  actions_taken.append(action_taken)\n",
        "  rewards.append(reward)\n",
        "  observations.append(observation)\n",
        "  with output_grid.output_to(0,0):\n",
        "    output_grid.clear_cell()\n",
        "    env.render()\n",
        "    print(f'Reward: {reward}, Action given: {action_dict[action]}, Action taken: {action_dict[action_taken]}')\n",
        "  time.sleep(1)"
      ],
      "metadata": {
        "id": "pZxBVxytHMrI",
        "colab": {
          "base_uri": "https://localhost:8080/",
          "height": 274
        },
        "outputId": "42341299-7ba4-4140-c9a9-a1bf602ebc78"
      },
      "execution_count": 8,
      "outputs": [
        {
          "output_type": "display_data",
          "data": {
            "text/html": [
              "<style>\n",
              "       table#id4, #id4 > tbody > tr > th, #id4 > tbody > tr > td {\n",
              "         border: 1px solid lightgray;\n",
              "         border-collapse:collapse;\n",
              "         \n",
              "        }</style>"
            ],
            "text/plain": [
              "<IPython.core.display.HTML object>"
            ]
          },
          "metadata": {}
        },
        {
          "output_type": "display_data",
          "data": {
            "text/html": [
              "<table id=id4><tr><td id=id4-0-0></td></tr></table>"
            ],
            "text/plain": [
              "<IPython.core.display.HTML object>"
            ]
          },
          "metadata": {}
        },
        {
          "output_type": "display_data",
          "data": {
            "application/javascript": [
              "window[\"6f69d8e0-92b5-11ec-9df7-0242ac1c0002\"] = google.colab.output.getActiveOutputArea();\n",
              "//# sourceURL=js_e1ef4ed76c"
            ],
            "text/plain": [
              "<IPython.core.display.Javascript object>"
            ]
          },
          "metadata": {}
        },
        {
          "output_type": "display_data",
          "data": {
            "application/javascript": [
              "window[\"6f6a474e-92b5-11ec-9df7-0242ac1c0002\"] = document.querySelector(\"#id4-0-0\");\n",
              "//# sourceURL=js_b17debc931"
            ],
            "text/plain": [
              "<IPython.core.display.Javascript object>"
            ]
          },
          "metadata": {}
        },
        {
          "output_type": "display_data",
          "data": {
            "application/javascript": [
              "window[\"6f6abe9a-92b5-11ec-9df7-0242ac1c0002\"] = google.colab.output.setActiveOutputArea(window[\"6f6a474e-92b5-11ec-9df7-0242ac1c0002\"]);\n",
              "//# sourceURL=js_2a5cc55cae"
            ],
            "text/plain": [
              "<IPython.core.display.Javascript object>"
            ]
          },
          "metadata": {}
        },
        {
          "output_type": "display_data",
          "data": {
            "application/javascript": [
              "window[\"6f8b3a12-92b5-11ec-9df7-0242ac1c0002\"] = google.colab.output.setActiveOutputArea(window[\"6f69d8e0-92b5-11ec-9df7-0242ac1c0002\"]);\n",
              "//# sourceURL=js_7ac156b46d"
            ],
            "text/plain": [
              "<IPython.core.display.Javascript object>"
            ]
          },
          "metadata": {}
        },
        {
          "output_type": "display_data",
          "data": {
            "application/javascript": [
              "window[\"702790b0-92b5-11ec-9df7-0242ac1c0002\"] = google.colab.output.getActiveOutputArea();\n",
              "//# sourceURL=js_769163cf91"
            ],
            "text/plain": [
              "<IPython.core.display.Javascript object>"
            ]
          },
          "metadata": {}
        },
        {
          "output_type": "display_data",
          "data": {
            "application/javascript": [
              "window[\"7027e4de-92b5-11ec-9df7-0242ac1c0002\"] = document.querySelector(\"#id4-0-0\");\n",
              "//# sourceURL=js_40591e9e16"
            ],
            "text/plain": [
              "<IPython.core.display.Javascript object>"
            ]
          },
          "metadata": {}
        },
        {
          "output_type": "display_data",
          "data": {
            "application/javascript": [
              "window[\"7028ac98-92b5-11ec-9df7-0242ac1c0002\"] = google.colab.output.setActiveOutputArea(window[\"7027e4de-92b5-11ec-9df7-0242ac1c0002\"]);\n",
              "//# sourceURL=js_66e0e4b00b"
            ],
            "text/plain": [
              "<IPython.core.display.Javascript object>"
            ]
          },
          "metadata": {}
        },
        {
          "output_type": "display_data",
          "data": {
            "application/javascript": [
              "window[\"70442342-92b5-11ec-9df7-0242ac1c0002\"] = google.colab.output.setActiveOutputArea(window[\"702790b0-92b5-11ec-9df7-0242ac1c0002\"]);\n",
              "//# sourceURL=js_1846131784"
            ],
            "text/plain": [
              "<IPython.core.display.Javascript object>"
            ]
          },
          "metadata": {}
        },
        {
          "output_type": "display_data",
          "data": {
            "application/javascript": [
              "window[\"70df36ac-92b5-11ec-9df7-0242ac1c0002\"] = google.colab.output.getActiveOutputArea();\n",
              "//# sourceURL=js_e42cf3d13b"
            ],
            "text/plain": [
              "<IPython.core.display.Javascript object>"
            ]
          },
          "metadata": {}
        },
        {
          "output_type": "display_data",
          "data": {
            "application/javascript": [
              "window[\"70dff24a-92b5-11ec-9df7-0242ac1c0002\"] = document.querySelector(\"#id4-0-0\");\n",
              "//# sourceURL=js_b8637e7f91"
            ],
            "text/plain": [
              "<IPython.core.display.Javascript object>"
            ]
          },
          "metadata": {}
        },
        {
          "output_type": "display_data",
          "data": {
            "application/javascript": [
              "window[\"70e0a7d0-92b5-11ec-9df7-0242ac1c0002\"] = google.colab.output.setActiveOutputArea(window[\"70dff24a-92b5-11ec-9df7-0242ac1c0002\"]);\n",
              "//# sourceURL=js_56399a17c7"
            ],
            "text/plain": [
              "<IPython.core.display.Javascript object>"
            ]
          },
          "metadata": {}
        },
        {
          "output_type": "display_data",
          "data": {
            "application/javascript": [
              "window[\"70fd72a2-92b5-11ec-9df7-0242ac1c0002\"] = google.colab.output.setActiveOutputArea(window[\"70df36ac-92b5-11ec-9df7-0242ac1c0002\"]);\n",
              "//# sourceURL=js_6752d1ee7a"
            ],
            "text/plain": [
              "<IPython.core.display.Javascript object>"
            ]
          },
          "metadata": {}
        },
        {
          "output_type": "display_data",
          "data": {
            "application/javascript": [
              "window[\"719a6eae-92b5-11ec-9df7-0242ac1c0002\"] = google.colab.output.getActiveOutputArea();\n",
              "//# sourceURL=js_7651eff9d1"
            ],
            "text/plain": [
              "<IPython.core.display.Javascript object>"
            ]
          },
          "metadata": {}
        },
        {
          "output_type": "display_data",
          "data": {
            "application/javascript": [
              "window[\"719acd9a-92b5-11ec-9df7-0242ac1c0002\"] = document.querySelector(\"#id4-0-0\");\n",
              "//# sourceURL=js_2169831803"
            ],
            "text/plain": [
              "<IPython.core.display.Javascript object>"
            ]
          },
          "metadata": {}
        },
        {
          "output_type": "display_data",
          "data": {
            "application/javascript": [
              "window[\"719b3bea-92b5-11ec-9df7-0242ac1c0002\"] = google.colab.output.setActiveOutputArea(window[\"719acd9a-92b5-11ec-9df7-0242ac1c0002\"]);\n",
              "//# sourceURL=js_a7b4624008"
            ],
            "text/plain": [
              "<IPython.core.display.Javascript object>"
            ]
          },
          "metadata": {}
        },
        {
          "output_type": "display_data",
          "data": {
            "application/javascript": [
              "window[\"71b68c56-92b5-11ec-9df7-0242ac1c0002\"] = google.colab.output.setActiveOutputArea(window[\"719a6eae-92b5-11ec-9df7-0242ac1c0002\"]);\n",
              "//# sourceURL=js_508ad07362"
            ],
            "text/plain": [
              "<IPython.core.display.Javascript object>"
            ]
          },
          "metadata": {}
        },
        {
          "output_type": "display_data",
          "data": {
            "application/javascript": [
              "window[\"7253b1fc-92b5-11ec-9df7-0242ac1c0002\"] = google.colab.output.getActiveOutputArea();\n",
              "//# sourceURL=js_1fa8feaef4"
            ],
            "text/plain": [
              "<IPython.core.display.Javascript object>"
            ]
          },
          "metadata": {}
        },
        {
          "output_type": "display_data",
          "data": {
            "application/javascript": [
              "window[\"725432a8-92b5-11ec-9df7-0242ac1c0002\"] = document.querySelector(\"#id4-0-0\");\n",
              "//# sourceURL=js_6da2e4504e"
            ],
            "text/plain": [
              "<IPython.core.display.Javascript object>"
            ]
          },
          "metadata": {}
        },
        {
          "output_type": "display_data",
          "data": {
            "application/javascript": [
              "window[\"725504b2-92b5-11ec-9df7-0242ac1c0002\"] = google.colab.output.setActiveOutputArea(window[\"725432a8-92b5-11ec-9df7-0242ac1c0002\"]);\n",
              "//# sourceURL=js_5618258bf1"
            ],
            "text/plain": [
              "<IPython.core.display.Javascript object>"
            ]
          },
          "metadata": {}
        },
        {
          "output_type": "display_data",
          "data": {
            "application/javascript": [
              "window[\"727186a0-92b5-11ec-9df7-0242ac1c0002\"] = google.colab.output.setActiveOutputArea(window[\"7253b1fc-92b5-11ec-9df7-0242ac1c0002\"]);\n",
              "//# sourceURL=js_db84da2960"
            ],
            "text/plain": [
              "<IPython.core.display.Javascript object>"
            ]
          },
          "metadata": {}
        },
        {
          "output_type": "display_data",
          "data": {
            "application/javascript": [
              "window[\"730dc97a-92b5-11ec-9df7-0242ac1c0002\"] = google.colab.output.getActiveOutputArea();\n",
              "//# sourceURL=js_b32b23ddd8"
            ],
            "text/plain": [
              "<IPython.core.display.Javascript object>"
            ]
          },
          "metadata": {}
        },
        {
          "output_type": "display_data",
          "data": {
            "application/javascript": [
              "window[\"730f2748-92b5-11ec-9df7-0242ac1c0002\"] = document.querySelector(\"#id4-0-0\");\n",
              "//# sourceURL=js_06939b6eb1"
            ],
            "text/plain": [
              "<IPython.core.display.Javascript object>"
            ]
          },
          "metadata": {}
        },
        {
          "output_type": "display_data",
          "data": {
            "application/javascript": [
              "window[\"731058f2-92b5-11ec-9df7-0242ac1c0002\"] = google.colab.output.setActiveOutputArea(window[\"730f2748-92b5-11ec-9df7-0242ac1c0002\"]);\n",
              "//# sourceURL=js_2bff4a5602"
            ],
            "text/plain": [
              "<IPython.core.display.Javascript object>"
            ]
          },
          "metadata": {}
        },
        {
          "output_type": "display_data",
          "data": {
            "application/javascript": [
              "window[\"7343dd3a-92b5-11ec-9df7-0242ac1c0002\"] = google.colab.output.setActiveOutputArea(window[\"730dc97a-92b5-11ec-9df7-0242ac1c0002\"]);\n",
              "//# sourceURL=js_103a4822cd"
            ],
            "text/plain": [
              "<IPython.core.display.Javascript object>"
            ]
          },
          "metadata": {}
        },
        {
          "output_type": "display_data",
          "data": {
            "application/javascript": [
              "window[\"73df95ae-92b5-11ec-9df7-0242ac1c0002\"] = google.colab.output.getActiveOutputArea();\n",
              "//# sourceURL=js_bba5bb56a7"
            ],
            "text/plain": [
              "<IPython.core.display.Javascript object>"
            ]
          },
          "metadata": {}
        },
        {
          "output_type": "display_data",
          "data": {
            "application/javascript": [
              "window[\"73e02ece-92b5-11ec-9df7-0242ac1c0002\"] = document.querySelector(\"#id4-0-0\");\n",
              "//# sourceURL=js_7b72878a6d"
            ],
            "text/plain": [
              "<IPython.core.display.Javascript object>"
            ]
          },
          "metadata": {}
        },
        {
          "output_type": "display_data",
          "data": {
            "application/javascript": [
              "window[\"73e0aa16-92b5-11ec-9df7-0242ac1c0002\"] = google.colab.output.setActiveOutputArea(window[\"73e02ece-92b5-11ec-9df7-0242ac1c0002\"]);\n",
              "//# sourceURL=js_39c1aef398"
            ],
            "text/plain": [
              "<IPython.core.display.Javascript object>"
            ]
          },
          "metadata": {}
        },
        {
          "output_type": "display_data",
          "data": {
            "application/javascript": [
              "window[\"73fd0832-92b5-11ec-9df7-0242ac1c0002\"] = google.colab.output.setActiveOutputArea(window[\"73df95ae-92b5-11ec-9df7-0242ac1c0002\"]);\n",
              "//# sourceURL=js_34559ad38d"
            ],
            "text/plain": [
              "<IPython.core.display.Javascript object>"
            ]
          },
          "metadata": {}
        },
        {
          "output_type": "display_data",
          "data": {
            "application/javascript": [
              "window[\"7497fb6c-92b5-11ec-9df7-0242ac1c0002\"] = google.colab.output.getActiveOutputArea();\n",
              "//# sourceURL=js_ca1ed18cc8"
            ],
            "text/plain": [
              "<IPython.core.display.Javascript object>"
            ]
          },
          "metadata": {}
        },
        {
          "output_type": "display_data",
          "data": {
            "application/javascript": [
              "window[\"74986fde-92b5-11ec-9df7-0242ac1c0002\"] = document.querySelector(\"#id4-0-0\");\n",
              "//# sourceURL=js_57843f65bf"
            ],
            "text/plain": [
              "<IPython.core.display.Javascript object>"
            ]
          },
          "metadata": {}
        },
        {
          "output_type": "display_data",
          "data": {
            "application/javascript": [
              "window[\"7498fde6-92b5-11ec-9df7-0242ac1c0002\"] = google.colab.output.setActiveOutputArea(window[\"74986fde-92b5-11ec-9df7-0242ac1c0002\"]);\n",
              "//# sourceURL=js_9038fd48e2"
            ],
            "text/plain": [
              "<IPython.core.display.Javascript object>"
            ]
          },
          "metadata": {}
        },
        {
          "output_type": "display_data",
          "data": {
            "application/javascript": [
              "window[\"74cadf14-92b5-11ec-9df7-0242ac1c0002\"] = google.colab.output.setActiveOutputArea(window[\"7497fb6c-92b5-11ec-9df7-0242ac1c0002\"]);\n",
              "//# sourceURL=js_52c6d2e55e"
            ],
            "text/plain": [
              "<IPython.core.display.Javascript object>"
            ]
          },
          "metadata": {}
        },
        {
          "output_type": "display_data",
          "data": {
            "application/javascript": [
              "window[\"7569c138-92b5-11ec-9df7-0242ac1c0002\"] = google.colab.output.getActiveOutputArea();\n",
              "//# sourceURL=js_0709e4df37"
            ],
            "text/plain": [
              "<IPython.core.display.Javascript object>"
            ]
          },
          "metadata": {}
        },
        {
          "output_type": "display_data",
          "data": {
            "application/javascript": [
              "window[\"756aaf26-92b5-11ec-9df7-0242ac1c0002\"] = document.querySelector(\"#id4-0-0\");\n",
              "//# sourceURL=js_0c7ae7648d"
            ],
            "text/plain": [
              "<IPython.core.display.Javascript object>"
            ]
          },
          "metadata": {}
        },
        {
          "output_type": "display_data",
          "data": {
            "application/javascript": [
              "window[\"756b8f4a-92b5-11ec-9df7-0242ac1c0002\"] = google.colab.output.setActiveOutputArea(window[\"756aaf26-92b5-11ec-9df7-0242ac1c0002\"]);\n",
              "//# sourceURL=js_f5c0c34249"
            ],
            "text/plain": [
              "<IPython.core.display.Javascript object>"
            ]
          },
          "metadata": {}
        },
        {
          "output_type": "display_data",
          "data": {
            "application/javascript": [
              "window[\"7588045e-92b5-11ec-9df7-0242ac1c0002\"] = google.colab.output.setActiveOutputArea(window[\"7569c138-92b5-11ec-9df7-0242ac1c0002\"]);\n",
              "//# sourceURL=js_3f583eec37"
            ],
            "text/plain": [
              "<IPython.core.display.Javascript object>"
            ]
          },
          "metadata": {}
        },
        {
          "output_type": "display_data",
          "data": {
            "application/javascript": [
              "window[\"76232b5a-92b5-11ec-9df7-0242ac1c0002\"] = google.colab.output.getActiveOutputArea();\n",
              "//# sourceURL=js_92f239ba99"
            ],
            "text/plain": [
              "<IPython.core.display.Javascript object>"
            ]
          },
          "metadata": {}
        },
        {
          "output_type": "display_data",
          "data": {
            "application/javascript": [
              "window[\"7623bb92-92b5-11ec-9df7-0242ac1c0002\"] = document.querySelector(\"#id4-0-0\");\n",
              "//# sourceURL=js_35a0dbca6c"
            ],
            "text/plain": [
              "<IPython.core.display.Javascript object>"
            ]
          },
          "metadata": {}
        },
        {
          "output_type": "display_data",
          "data": {
            "application/javascript": [
              "window[\"7624a7a0-92b5-11ec-9df7-0242ac1c0002\"] = google.colab.output.setActiveOutputArea(window[\"7623bb92-92b5-11ec-9df7-0242ac1c0002\"]);\n",
              "//# sourceURL=js_7003c1e817"
            ],
            "text/plain": [
              "<IPython.core.display.Javascript object>"
            ]
          },
          "metadata": {}
        },
        {
          "output_type": "stream",
          "name": "stdout",
          "text": [
            "Reward: -3, Action given: down, Action taken: down\n"
          ]
        },
        {
          "output_type": "display_data",
          "data": {
            "image/png": "[encoded data removed]",
            "text/plain": [
              "<Figure size 432x288 with 1 Axes>"
            ]
          },
          "metadata": {
            "needs_background": "light"
          }
        },
        {
          "output_type": "display_data",
          "data": {
            "application/javascript": [
              "window[\"763fcc24-92b5-11ec-9df7-0242ac1c0002\"] = google.colab.output.setActiveOutputArea(window[\"76232b5a-92b5-11ec-9df7-0242ac1c0002\"]);\n",
              "//# sourceURL=js_4a42d6a453"
            ],
            "text/plain": [
              "<IPython.core.display.Javascript object>"
            ]
          },
          "metadata": {}
        }
      ]
    },
    {
      "cell_type": "code",
      "source": [
        "actions_given"
      ],
      "metadata": {
        "colab": {
          "base_uri": "https://localhost:8080/"
        },
        "id": "WkqAInCsSi1H",
        "outputId": "413398fb-9f2b-47b4-e338-249468171a86"
      },
      "execution_count": 9,
      "outputs": [
        {
          "output_type": "execute_result",
          "data": {
            "text/plain": [
              "[2, 0, 0, 0, 3, 1, 2, 0, 1, 0]"
            ]
          },
          "metadata": {},
          "execution_count": 9
        }
      ]
    },
    {
      "cell_type": "code",
      "source": [
        "actions_taken"
      ],
      "metadata": {
        "colab": {
          "base_uri": "https://localhost:8080/"
        },
        "id": "RE4tFQJzSpXc",
        "outputId": "3f62a4b3-64c7-4ec8-af86-02560183cef8"
      },
      "execution_count": 10,
      "outputs": [
        {
          "output_type": "execute_result",
          "data": {
            "text/plain": [
              "[2, 0, 0, 0, 3, 1, 2, 0, 1, 0]"
            ]
          },
          "metadata": {},
          "execution_count": 10
        }
      ]
    },
    {
      "cell_type": "code",
      "source": [
        "rewards"
      ],
      "metadata": {
        "colab": {
          "base_uri": "https://localhost:8080/"
        },
        "id": "hJqWsxvLSqjc",
        "outputId": "c3e473c7-9e55-42ee-8923-354b60660e4d"
      },
      "execution_count": 11,
      "outputs": [
        {
          "output_type": "execute_result",
          "data": {
            "text/plain": [
              "[0, 7, -3, -3, 0, 0, 2, -3, 2, -3]"
            ]
          },
          "metadata": {},
          "execution_count": 11
        }
      ]
    }
  ]
}