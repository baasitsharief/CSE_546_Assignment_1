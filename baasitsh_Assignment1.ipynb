{
  "nbformat": 4,
  "nbformat_minor": 0,
  "metadata": {
    "colab": {
      "name": "baasitsh_Assignment1.ipynb",
      "provenance": []
    },
    "kernelspec": {
      "name": "python3",
      "display_name": "Python 3"
    },
    "language_info": {
      "name": "python"
    }
  },
  "cells": [
    {
      "cell_type": "code",
      "source": [
        "import numpy as np\n",
        "import matplotlib.pyplot as plt\n",
        "import gym\n",
        "from gym import spaces\n",
        "from google.colab import widgets\n",
        "import time"
      ],
      "metadata": {
        "id": "9j4Qb7nU6RuC"
      },
      "execution_count": 1,
      "outputs": []
    },
    {
      "cell_type": "markdown",
      "source": [
        "## Grid Environment Definition\n",
        "\n",
        "Includes both deterministic and stochastic environments"
      ],
      "metadata": {
        "id": "WWd1YBGbyQF_"
      }
    },
    {
      "cell_type": "code",
      "source": [
        "class GridEnvironment(gym.Env):\n",
        "  metadata = { 'render.modes': []}\n",
        "\n",
        "  def __init__(self, stochastic = False):\n",
        "    '''\n",
        "    Defines the initialization of the environment.\n",
        "\n",
        "    Input\n",
        "    ------\n",
        "    stochastic: [bool] True, if stochastic environment\n",
        "    '''\n",
        "    self.observation_space = spaces.Discrete(15)\n",
        "    self.action_space = spaces.Discrete(4)\n",
        "    self.max_timesteps = 20\n",
        "    self.stochastic = stochastic\n",
        "\n",
        "  def reset(self):\n",
        "    '''\n",
        "    Reset the environment to initial state.\n",
        "\n",
        "    '''\n",
        "    self.timestep = 0\n",
        "    self.agent_pos = [0, 0]\n",
        "    self.goal_pos = [2, 4]\n",
        "    self.hole1_pos = [1,3]\n",
        "    self.hole2_pos = [2,1]\n",
        "    self.candy1_pos = [0,3]\n",
        "    self.candy2_pos = [1,1]\n",
        "    self.state = np.zeros((3, 5))\n",
        "    self.state[tuple(self.agent_pos)] = 1\n",
        "    self.state[tuple(self.hole1_pos)] = 0.25\n",
        "    self.state[tuple(self.hole2_pos)] = 0.25\n",
        "    self.state[tuple(self.candy1_pos)] = 0.75\n",
        "    self.state[tuple(self.candy2_pos)] = 0.75\n",
        "    self.state[tuple(self.goal_pos)] = 0.5\n",
        "    observation = self.state.flatten()\n",
        "    return observation\n",
        "\n",
        "  def step(self, action):\n",
        "    '''\n",
        "    Define an execution of one timestep within the environment\n",
        "\n",
        "    Input\n",
        "    ------\n",
        "    action: [int] action from the action space [0,1,2,3]\n",
        "\n",
        "    Returns\n",
        "    ------\n",
        "    observation, reward, done, info\n",
        "    '''\n",
        "    # self.state = np.random.choice(self.observation_space.n)\n",
        "    info = {}\n",
        "\n",
        "    if(self.stochastic):\n",
        "      info['action_given'] = action\n",
        "      if (np.random.uniform(0,1)<0.9):\n",
        "        action = action\n",
        "      else:\n",
        "        action = self.action_space.sample()\n",
        "      info['action_taken'] = action\n",
        "\n",
        "    if action == 0:\n",
        "      self.agent_pos[0] += 1\n",
        "    if action == 1:\n",
        "      self.agent_pos[0] -= 1\n",
        "    if action == 2:\n",
        "      self.agent_pos[1] += 1\n",
        "    if action == 3:\n",
        "      self.agent_pos[1] -= 1\n",
        "    \n",
        "    # print(f'before clipping: {self.agent_pos}')\n",
        "    self.agent_pos[0] = np.clip(self.agent_pos[0], 0, 2)\n",
        "    self.agent_pos[1] = np.clip(self.agent_pos[1], 0, 4)\n",
        "    self.agent_pos = np.array(self.agent_pos)\n",
        "    # print(f'after clipping: {self.agent_pos}')\n",
        "    self.state = np.zeros((3,5))\n",
        "    self.state[tuple(self.candy1_pos)] = 0.75\n",
        "    self.state[tuple(self.candy2_pos)] = 0.75\n",
        "    self.state[tuple(self.hole1_pos)] = 0.25\n",
        "    self.state[tuple(self.hole2_pos)] = 0.25\n",
        "    self.state[tuple(self.goal_pos)] = 0.5\n",
        "\n",
        "    reward = 0\n",
        "    if (self.agent_pos == self.goal_pos).all():\n",
        "      reward = +10 #deterministic reward\n",
        "      self.state[tuple(self.agent_pos)] = 0.9\n",
        "    elif (self.agent_pos == self.candy1_pos).all():\n",
        "      reward = +5 #deterministic reward\n",
        "      if(self.stochastic):\n",
        "        if(np.random.uniform(0,1)<0.50):\n",
        "          reward = +2\n",
        "        else:\n",
        "          reward = +5\n",
        "      self.state[tuple(self.agent_pos)] = 1\n",
        "      self.state[tuple(self.candy2_pos)] = 0.75\n",
        "    elif (self.agent_pos == self.candy2_pos).all():\n",
        "      reward = +7 #deterministic reward\n",
        "      if(self.stochastic):\n",
        "        if(np.random.uniform(0,1)<0.50):\n",
        "          reward = +2\n",
        "        else:\n",
        "          reward = +7\n",
        "      self.state[tuple(self.candy1_pos)] = 0.75\n",
        "      self.state[tuple(self.agent_pos)] = 1\n",
        "    elif (self.agent_pos == self.hole1_pos).all():\n",
        "      reward = -3 #deterministic reward\n",
        "      if(self.stochastic):\n",
        "        if(np.random.uniform(0,1)<0.9):\n",
        "          reward = -3\n",
        "        else:\n",
        "          reward = +6\n",
        "      self.state[tuple(self.hole1_pos)] = 1\n",
        "      self.state[tuple(self.hole2_pos)] = 0.25\n",
        "    elif(self.agent_pos == self.hole2_pos).all():\n",
        "      reward = -3 #deterministic reward\n",
        "      if(self.stochastic):\n",
        "        if(np.random.uniform(0,1)<0.9):\n",
        "          reward = -3\n",
        "        else:\n",
        "          reward = +6\n",
        "      self.state[tuple(self.hole1_pos)] = 0.25\n",
        "      self.state[tuple(self.hole2_pos)] = 1\n",
        "    else:\n",
        "      self.state[tuple(self.agent_pos)] = 1\n",
        "      self.state[tuple(self.candy1_pos)] = 0.75\n",
        "      self.state[tuple(self.candy2_pos)] = 0.75\n",
        "      self.state[tuple(self.hole1_pos)] = 0.25\n",
        "      self.state[tuple(self.hole2_pos)] = 0.25\n",
        "      self.state[tuple(self.goal_pos)] = 0.5\n",
        "\n",
        "    observation = self.state.flatten()\n",
        "\n",
        "    self.timestep += 1\n",
        "    done = True if ((self.timestep >= self.max_timesteps) or (self.agent_pos == self.goal_pos).all()) else False\n",
        "\n",
        "    return observation, reward, done, info\n",
        "\n",
        "  def render(self):\n",
        "    '''\n",
        "    Render the GridEnvironment\n",
        "    '''\n",
        "    plt.imshow(self.state)"
      ],
      "metadata": {
        "id": "UM3-Q6zv68Ib"
      },
      "execution_count": 2,
      "outputs": []
    },
    {
      "cell_type": "markdown",
      "source": [
        "## Deterministic"
      ],
      "metadata": {
        "id": "cT0zZxxDRh-e"
      }
    },
    {
      "cell_type": "code",
      "source": [
        "env = GridEnvironment()\n",
        "obs = env.reset()\n",
        "env.render()"
      ],
      "metadata": {
        "colab": {
          "base_uri": "https://localhost:8080/",
          "height": 253
        },
        "id": "8Rk7dsV99XZ2",
        "outputId": "845a854c-d038-4f70-ca8f-ae7874b9111b"
      },
      "execution_count": 3,
      "outputs": [
        {
          "output_type": "display_data",
          "data": {
            "image/png": "[encoded data removed]",
            "text/plain": [
              "<Figure size 432x288 with 1 Axes>"
            ]
          },
          "metadata": {
            "needs_background": "light"
          }
        }
      ]
    },
    {
      "cell_type": "code",
      "source": [
        "env.reset()\n",
        "actions_given = []\n",
        "rewards = []\n",
        "observations = []\n",
        "action_dict = {\n",
        "    0: 'down',\n",
        "    1: 'up',\n",
        "    2: 'right',\n",
        "    3: 'left',\n",
        "}\n",
        "\n",
        "output_grid = widgets.Grid(1,1)\n",
        "for _ in range(10):\n",
        "  action = np.random.randint(0,4)\n",
        "  observation, reward, done, info = env.step(action)\n",
        "  actions_given.append(action)\n",
        "  rewards.append(reward)\n",
        "  observations.append(observation)\n",
        "  with output_grid.output_to(0,0):\n",
        "    output_grid.clear_cell()\n",
        "    env.render()\n",
        "    print(f'Reward: {reward}, Action taken: {action_dict[action]}')\n",
        "  time.sleep(1)"
      ],
      "metadata": {
        "colab": {
          "base_uri": "https://localhost:8080/",
          "height": 274
        },
        "id": "iYkVISkn9dJp",
        "outputId": "de87bc76-a54b-4014-cb50-cbb4b8970e1b"
      },
      "execution_count": 4,
      "outputs": [
        {
          "output_type": "display_data",
          "data": {
            "text/html": [
              "<style>\n",
              "       table#id2, #id2 > tbody > tr > th, #id2 > tbody > tr > td {\n",
              "         border: 1px solid lightgray;\n",
              "         border-collapse:collapse;\n",
              "         \n",
              "        }</style>"
            ],
            "text/plain": [
              "<IPython.core.display.HTML object>"
            ]
          },
          "metadata": {}
        },
        {
          "output_type": "display_data",
          "data": {
            "text/html": [
              "<table id=id2><tr><td id=id2-0-0></td></tr></table>"
            ],
            "text/plain": [
              "<IPython.core.display.HTML object>"
            ]
          },
          "metadata": {}
        },
        {
          "output_type": "display_data",
          "data": {
            "application/javascript": [
              "window[\"b4078710-92c7-11ec-82c1-0242ac1c0002\"] = google.colab.output.getActiveOutputArea();\n",
              "//# sourceURL=js_8d4418aa8d"
            ],
            "text/plain": [
              "<IPython.core.display.Javascript object>"
            ]
          },
          "metadata": {}
        },
        {
          "output_type": "display_data",
          "data": {
            "application/javascript": [
              "window[\"b407f326-92c7-11ec-82c1-0242ac1c0002\"] = document.querySelector(\"#id2-0-0\");\n",
              "//# sourceURL=js_71eba516b1"
            ],
            "text/plain": [
              "<IPython.core.display.Javascript object>"
            ]
          },
          "metadata": {}
        },
        {
          "output_type": "display_data",
          "data": {
            "application/javascript": [
              "window[\"b4089aa6-92c7-11ec-82c1-0242ac1c0002\"] = google.colab.output.setActiveOutputArea(window[\"b407f326-92c7-11ec-82c1-0242ac1c0002\"]);\n",
              "//# sourceURL=js_b06c485f9d"
            ],
            "text/plain": [
              "<IPython.core.display.Javascript object>"
            ]
          },
          "metadata": {}
        },
        {
          "output_type": "display_data",
          "data": {
            "application/javascript": [
              "window[\"b434b37a-92c7-11ec-82c1-0242ac1c0002\"] = google.colab.output.setActiveOutputArea(window[\"b4078710-92c7-11ec-82c1-0242ac1c0002\"]);\n",
              "//# sourceURL=js_105a910b1a"
            ],
            "text/plain": [
              "<IPython.core.display.Javascript object>"
            ]
          },
          "metadata": {}
        },
        {
          "output_type": "display_data",
          "data": {
            "application/javascript": [
              "window[\"b4d35a2a-92c7-11ec-82c1-0242ac1c0002\"] = google.colab.output.getActiveOutputArea();\n",
              "//# sourceURL=js_0c3595bf20"
            ],
            "text/plain": [
              "<IPython.core.display.Javascript object>"
            ]
          },
          "metadata": {}
        },
        {
          "output_type": "display_data",
          "data": {
            "application/javascript": [
              "window[\"b4d561b2-92c7-11ec-82c1-0242ac1c0002\"] = document.querySelector(\"#id2-0-0\");\n",
              "//# sourceURL=js_873d0ef867"
            ],
            "text/plain": [
              "<IPython.core.display.Javascript object>"
            ]
          },
          "metadata": {}
        },
        {
          "output_type": "display_data",
          "data": {
            "application/javascript": [
              "window[\"b4d72cfe-92c7-11ec-82c1-0242ac1c0002\"] = google.colab.output.setActiveOutputArea(window[\"b4d561b2-92c7-11ec-82c1-0242ac1c0002\"]);\n",
              "//# sourceURL=js_09e212edac"
            ],
            "text/plain": [
              "<IPython.core.display.Javascript object>"
            ]
          },
          "metadata": {}
        },
        {
          "output_type": "display_data",
          "data": {
            "application/javascript": [
              "window[\"b5134e46-92c7-11ec-82c1-0242ac1c0002\"] = google.colab.output.setActiveOutputArea(window[\"b4d35a2a-92c7-11ec-82c1-0242ac1c0002\"]);\n",
              "//# sourceURL=js_26b5f82fc2"
            ],
            "text/plain": [
              "<IPython.core.display.Javascript object>"
            ]
          },
          "metadata": {}
        },
        {
          "output_type": "display_data",
          "data": {
            "application/javascript": [
              "window[\"b5b1ffbe-92c7-11ec-82c1-0242ac1c0002\"] = google.colab.output.getActiveOutputArea();\n",
              "//# sourceURL=js_f95d07a2c7"
            ],
            "text/plain": [
              "<IPython.core.display.Javascript object>"
            ]
          },
          "metadata": {}
        },
        {
          "output_type": "display_data",
          "data": {
            "application/javascript": [
              "window[\"b5b28038-92c7-11ec-82c1-0242ac1c0002\"] = document.querySelector(\"#id2-0-0\");\n",
              "//# sourceURL=js_50b0b12447"
            ],
            "text/plain": [
              "<IPython.core.display.Javascript object>"
            ]
          },
          "metadata": {}
        },
        {
          "output_type": "display_data",
          "data": {
            "application/javascript": [
              "window[\"b5b30274-92c7-11ec-82c1-0242ac1c0002\"] = google.colab.output.setActiveOutputArea(window[\"b5b28038-92c7-11ec-82c1-0242ac1c0002\"]);\n",
              "//# sourceURL=js_2dc03d9dfc"
            ],
            "text/plain": [
              "<IPython.core.display.Javascript object>"
            ]
          },
          "metadata": {}
        },
        {
          "output_type": "display_data",
          "data": {
            "application/javascript": [
              "window[\"b5ec54ca-92c7-11ec-82c1-0242ac1c0002\"] = google.colab.output.setActiveOutputArea(window[\"b5b1ffbe-92c7-11ec-82c1-0242ac1c0002\"]);\n",
              "//# sourceURL=js_d88fbcdffa"
            ],
            "text/plain": [
              "<IPython.core.display.Javascript object>"
            ]
          },
          "metadata": {}
        },
        {
          "output_type": "display_data",
          "data": {
            "application/javascript": [
              "window[\"b688215c-92c7-11ec-82c1-0242ac1c0002\"] = google.colab.output.getActiveOutputArea();\n",
              "//# sourceURL=js_601ee0a378"
            ],
            "text/plain": [
              "<IPython.core.display.Javascript object>"
            ]
          },
          "metadata": {}
        },
        {
          "output_type": "display_data",
          "data": {
            "application/javascript": [
              "window[\"b6889cd6-92c7-11ec-82c1-0242ac1c0002\"] = document.querySelector(\"#id2-0-0\");\n",
              "//# sourceURL=js_da044540ca"
            ],
            "text/plain": [
              "<IPython.core.display.Javascript object>"
            ]
          },
          "metadata": {}
        },
        {
          "output_type": "display_data",
          "data": {
            "application/javascript": [
              "window[\"b68a88fc-92c7-11ec-82c1-0242ac1c0002\"] = google.colab.output.setActiveOutputArea(window[\"b6889cd6-92c7-11ec-82c1-0242ac1c0002\"]);\n",
              "//# sourceURL=js_e7095217e4"
            ],
            "text/plain": [
              "<IPython.core.display.Javascript object>"
            ]
          },
          "metadata": {}
        },
        {
          "output_type": "display_data",
          "data": {
            "application/javascript": [
              "window[\"b6b8834c-92c7-11ec-82c1-0242ac1c0002\"] = google.colab.output.setActiveOutputArea(window[\"b688215c-92c7-11ec-82c1-0242ac1c0002\"]);\n",
              "//# sourceURL=js_e547a3a38e"
            ],
            "text/plain": [
              "<IPython.core.display.Javascript object>"
            ]
          },
          "metadata": {}
        },
        {
          "output_type": "display_data",
          "data": {
            "application/javascript": [
              "window[\"b757328a-92c7-11ec-82c1-0242ac1c0002\"] = google.colab.output.getActiveOutputArea();\n",
              "//# sourceURL=js_e060c06963"
            ],
            "text/plain": [
              "<IPython.core.display.Javascript object>"
            ]
          },
          "metadata": {}
        },
        {
          "output_type": "display_data",
          "data": {
            "application/javascript": [
              "window[\"b75851ba-92c7-11ec-82c1-0242ac1c0002\"] = document.querySelector(\"#id2-0-0\");\n",
              "//# sourceURL=js_93211683c6"
            ],
            "text/plain": [
              "<IPython.core.display.Javascript object>"
            ]
          },
          "metadata": {}
        },
        {
          "output_type": "display_data",
          "data": {
            "application/javascript": [
              "window[\"b75b1cd8-92c7-11ec-82c1-0242ac1c0002\"] = google.colab.output.setActiveOutputArea(window[\"b75851ba-92c7-11ec-82c1-0242ac1c0002\"]);\n",
              "//# sourceURL=js_5e3bd55212"
            ],
            "text/plain": [
              "<IPython.core.display.Javascript object>"
            ]
          },
          "metadata": {}
        },
        {
          "output_type": "display_data",
          "data": {
            "application/javascript": [
              "window[\"b7aaa866-92c7-11ec-82c1-0242ac1c0002\"] = google.colab.output.setActiveOutputArea(window[\"b757328a-92c7-11ec-82c1-0242ac1c0002\"]);\n",
              "//# sourceURL=js_31a7e4a38d"
            ],
            "text/plain": [
              "<IPython.core.display.Javascript object>"
            ]
          },
          "metadata": {}
        },
        {
          "output_type": "display_data",
          "data": {
            "application/javascript": [
              "window[\"b8483f90-92c7-11ec-82c1-0242ac1c0002\"] = google.colab.output.getActiveOutputArea();\n",
              "//# sourceURL=js_591ac1117d"
            ],
            "text/plain": [
              "<IPython.core.display.Javascript object>"
            ]
          },
          "metadata": {}
        },
        {
          "output_type": "display_data",
          "data": {
            "application/javascript": [
              "window[\"b849b320-92c7-11ec-82c1-0242ac1c0002\"] = document.querySelector(\"#id2-0-0\");\n",
              "//# sourceURL=js_d9bf33b28c"
            ],
            "text/plain": [
              "<IPython.core.display.Javascript object>"
            ]
          },
          "metadata": {}
        },
        {
          "output_type": "display_data",
          "data": {
            "application/javascript": [
              "window[\"b84ad0c0-92c7-11ec-82c1-0242ac1c0002\"] = google.colab.output.setActiveOutputArea(window[\"b849b320-92c7-11ec-82c1-0242ac1c0002\"]);\n",
              "//# sourceURL=js_50531a0e16"
            ],
            "text/plain": [
              "<IPython.core.display.Javascript object>"
            ]
          },
          "metadata": {}
        },
        {
          "output_type": "display_data",
          "data": {
            "application/javascript": [
              "window[\"b88cd984-92c7-11ec-82c1-0242ac1c0002\"] = google.colab.output.setActiveOutputArea(window[\"b8483f90-92c7-11ec-82c1-0242ac1c0002\"]);\n",
              "//# sourceURL=js_a79b893f45"
            ],
            "text/plain": [
              "<IPython.core.display.Javascript object>"
            ]
          },
          "metadata": {}
        },
        {
          "output_type": "display_data",
          "data": {
            "application/javascript": [
              "window[\"b92bbac2-92c7-11ec-82c1-0242ac1c0002\"] = google.colab.output.getActiveOutputArea();\n",
              "//# sourceURL=js_40b929b006"
            ],
            "text/plain": [
              "<IPython.core.display.Javascript object>"
            ]
          },
          "metadata": {}
        },
        {
          "output_type": "display_data",
          "data": {
            "application/javascript": [
              "window[\"b92cafa4-92c7-11ec-82c1-0242ac1c0002\"] = document.querySelector(\"#id2-0-0\");\n",
              "//# sourceURL=js_d5dc165cfe"
            ],
            "text/plain": [
              "<IPython.core.display.Javascript object>"
            ]
          },
          "metadata": {}
        },
        {
          "output_type": "display_data",
          "data": {
            "application/javascript": [
              "window[\"b92d180e-92c7-11ec-82c1-0242ac1c0002\"] = google.colab.output.setActiveOutputArea(window[\"b92cafa4-92c7-11ec-82c1-0242ac1c0002\"]);\n",
              "//# sourceURL=js_90e5e50a02"
            ],
            "text/plain": [
              "<IPython.core.display.Javascript object>"
            ]
          },
          "metadata": {}
        },
        {
          "output_type": "display_data",
          "data": {
            "application/javascript": [
              "window[\"b948619a-92c7-11ec-82c1-0242ac1c0002\"] = google.colab.output.setActiveOutputArea(window[\"b92bbac2-92c7-11ec-82c1-0242ac1c0002\"]);\n",
              "//# sourceURL=js_1786393313"
            ],
            "text/plain": [
              "<IPython.core.display.Javascript object>"
            ]
          },
          "metadata": {}
        },
        {
          "output_type": "display_data",
          "data": {
            "application/javascript": [
              "window[\"b9e52c50-92c7-11ec-82c1-0242ac1c0002\"] = google.colab.output.getActiveOutputArea();\n",
              "//# sourceURL=js_11b2137229"
            ],
            "text/plain": [
              "<IPython.core.display.Javascript object>"
            ]
          },
          "metadata": {}
        },
        {
          "output_type": "display_data",
          "data": {
            "application/javascript": [
              "window[\"b9e5a73e-92c7-11ec-82c1-0242ac1c0002\"] = document.querySelector(\"#id2-0-0\");\n",
              "//# sourceURL=js_54e072ecb8"
            ],
            "text/plain": [
              "<IPython.core.display.Javascript object>"
            ]
          },
          "metadata": {}
        },
        {
          "output_type": "display_data",
          "data": {
            "application/javascript": [
              "window[\"b9e6a0c6-92c7-11ec-82c1-0242ac1c0002\"] = google.colab.output.setActiveOutputArea(window[\"b9e5a73e-92c7-11ec-82c1-0242ac1c0002\"]);\n",
              "//# sourceURL=js_6e86030acc"
            ],
            "text/plain": [
              "<IPython.core.display.Javascript object>"
            ]
          },
          "metadata": {}
        },
        {
          "output_type": "display_data",
          "data": {
            "application/javascript": [
              "window[\"ba05c97e-92c7-11ec-82c1-0242ac1c0002\"] = google.colab.output.setActiveOutputArea(window[\"b9e52c50-92c7-11ec-82c1-0242ac1c0002\"]);\n",
              "//# sourceURL=js_4ea0c629f8"
            ],
            "text/plain": [
              "<IPython.core.display.Javascript object>"
            ]
          },
          "metadata": {}
        },
        {
          "output_type": "display_data",
          "data": {
            "application/javascript": [
              "window[\"baa0dcde-92c7-11ec-82c1-0242ac1c0002\"] = google.colab.output.getActiveOutputArea();\n",
              "//# sourceURL=js_34199795b6"
            ],
            "text/plain": [
              "<IPython.core.display.Javascript object>"
            ]
          },
          "metadata": {}
        },
        {
          "output_type": "display_data",
          "data": {
            "application/javascript": [
              "window[\"baa13544-92c7-11ec-82c1-0242ac1c0002\"] = document.querySelector(\"#id2-0-0\");\n",
              "//# sourceURL=js_0184e518f5"
            ],
            "text/plain": [
              "<IPython.core.display.Javascript object>"
            ]
          },
          "metadata": {}
        },
        {
          "output_type": "display_data",
          "data": {
            "application/javascript": [
              "window[\"baa1e1ba-92c7-11ec-82c1-0242ac1c0002\"] = google.colab.output.setActiveOutputArea(window[\"baa13544-92c7-11ec-82c1-0242ac1c0002\"]);\n",
              "//# sourceURL=js_6cf30ed52e"
            ],
            "text/plain": [
              "<IPython.core.display.Javascript object>"
            ]
          },
          "metadata": {}
        },
        {
          "output_type": "display_data",
          "data": {
            "application/javascript": [
              "window[\"bac00e56-92c7-11ec-82c1-0242ac1c0002\"] = google.colab.output.setActiveOutputArea(window[\"baa0dcde-92c7-11ec-82c1-0242ac1c0002\"]);\n",
              "//# sourceURL=js_7e31499792"
            ],
            "text/plain": [
              "<IPython.core.display.Javascript object>"
            ]
          },
          "metadata": {}
        },
        {
          "output_type": "display_data",
          "data": {
            "application/javascript": [
              "window[\"bb5b9f06-92c7-11ec-82c1-0242ac1c0002\"] = google.colab.output.getActiveOutputArea();\n",
              "//# sourceURL=js_36440d8b73"
            ],
            "text/plain": [
              "<IPython.core.display.Javascript object>"
            ]
          },
          "metadata": {}
        },
        {
          "output_type": "display_data",
          "data": {
            "application/javascript": [
              "window[\"bb5c0ee6-92c7-11ec-82c1-0242ac1c0002\"] = document.querySelector(\"#id2-0-0\");\n",
              "//# sourceURL=js_9a82a9fdc1"
            ],
            "text/plain": [
              "<IPython.core.display.Javascript object>"
            ]
          },
          "metadata": {}
        },
        {
          "output_type": "display_data",
          "data": {
            "application/javascript": [
              "window[\"bb5cab94-92c7-11ec-82c1-0242ac1c0002\"] = google.colab.output.setActiveOutputArea(window[\"bb5c0ee6-92c7-11ec-82c1-0242ac1c0002\"]);\n",
              "//# sourceURL=js_539993dce6"
            ],
            "text/plain": [
              "<IPython.core.display.Javascript object>"
            ]
          },
          "metadata": {}
        },
        {
          "output_type": "stream",
          "name": "stdout",
          "text": [
            "Reward: 0, Action taken: left\n"
          ]
        },
        {
          "output_type": "display_data",
          "data": {
            "image/png": "[encoded data removed]",
            "text/plain": [
              "<Figure size 432x288 with 1 Axes>"
            ]
          },
          "metadata": {
            "needs_background": "light"
          }
        },
        {
          "output_type": "display_data",
          "data": {
            "application/javascript": [
              "window[\"bb76bc82-92c7-11ec-82c1-0242ac1c0002\"] = google.colab.output.setActiveOutputArea(window[\"bb5b9f06-92c7-11ec-82c1-0242ac1c0002\"]);\n",
              "//# sourceURL=js_8467bbe044"
            ],
            "text/plain": [
              "<IPython.core.display.Javascript object>"
            ]
          },
          "metadata": {}
        }
      ]
    },
    {
      "cell_type": "code",
      "source": [
        "actions_given"
      ],
      "metadata": {
        "colab": {
          "base_uri": "https://localhost:8080/"
        },
        "id": "46P23QM0StSU",
        "outputId": "0f170c25-6a62-46d9-92ae-6883cbdb5dea"
      },
      "execution_count": 5,
      "outputs": [
        {
          "output_type": "execute_result",
          "data": {
            "text/plain": [
              "[2, 2, 2, 2, 1, 3, 0, 2, 3, 3]"
            ]
          },
          "metadata": {},
          "execution_count": 5
        }
      ]
    },
    {
      "cell_type": "code",
      "source": [
        "rewards"
      ],
      "metadata": {
        "colab": {
          "base_uri": "https://localhost:8080/"
        },
        "id": "vEhzZo6oSwQ_",
        "outputId": "309c81c2-5fc7-4c69-f777-be3fe7674d83"
      },
      "execution_count": 6,
      "outputs": [
        {
          "output_type": "execute_result",
          "data": {
            "text/plain": [
              "[0, 0, 5, 0, 0, 5, -3, 0, -3, 0]"
            ]
          },
          "metadata": {},
          "execution_count": 6
        }
      ]
    },
    {
      "cell_type": "markdown",
      "source": [
        "## Stochastic Environment"
      ],
      "metadata": {
        "id": "xT4k8RaNSJo9"
      }
    },
    {
      "cell_type": "code",
      "source": [
        "env = GridEnvironment(stochastic=True)\n",
        "obs = env.reset()\n",
        "env.render()"
      ],
      "metadata": {
        "colab": {
          "base_uri": "https://localhost:8080/",
          "height": 253
        },
        "id": "ZvfRP9BJSG19",
        "outputId": "4107c06b-ee82-4e87-9d6f-05f0bbd46bbe"
      },
      "execution_count": 7,
      "outputs": [
        {
          "output_type": "display_data",
          "data": {
            "image/png": "[encoded data removed]",
            "text/plain": [
              "<Figure size 432x288 with 1 Axes>"
            ]
          },
          "metadata": {
            "needs_background": "light"
          }
        }
      ]
    },
    {
      "cell_type": "code",
      "source": [
        "env.reset()\n",
        "actions_given = []\n",
        "actions_taken = []\n",
        "rewards = []\n",
        "observations = []\n",
        "action_dict = {\n",
        "    0: 'down',\n",
        "    1: 'up',\n",
        "    2: 'right',\n",
        "    3: 'left',\n",
        "}\n",
        "\n",
        "output_grid = widgets.Grid(1,1)\n",
        "for _ in range(10):\n",
        "  action = np.random.randint(0,4)\n",
        "  observation, reward, done, info = env.step(action)\n",
        "  action_taken = info['action_taken']\n",
        "  actions_given.append(action)\n",
        "  actions_taken.append(action_taken)\n",
        "  rewards.append(reward)\n",
        "  observations.append(observation)\n",
        "  with output_grid.output_to(0,0):\n",
        "    output_grid.clear_cell()\n",
        "    env.render()\n",
        "    print(f'Reward: {reward}, Action given: {action_dict[action]}, Action taken: {action_dict[action_taken]}')\n",
        "  time.sleep(1)"
      ],
      "metadata": {
        "id": "pZxBVxytHMrI",
        "colab": {
          "base_uri": "https://localhost:8080/",
          "height": 274
        },
        "outputId": "b8c1d0de-6a14-4175-c8af-d39aac6c44c2"
      },
      "execution_count": 8,
      "outputs": [
        {
          "output_type": "display_data",
          "data": {
            "text/html": [
              "<style>\n",
              "       table#id4, #id4 > tbody > tr > th, #id4 > tbody > tr > td {\n",
              "         border: 1px solid lightgray;\n",
              "         border-collapse:collapse;\n",
              "         \n",
              "        }</style>"
            ],
            "text/plain": [
              "<IPython.core.display.HTML object>"
            ]
          },
          "metadata": {}
        },
        {
          "output_type": "display_data",
          "data": {
            "text/html": [
              "<table id=id4><tr><td id=id4-0-0></td></tr></table>"
            ],
            "text/plain": [
              "<IPython.core.display.HTML object>"
            ]
          },
          "metadata": {}
        },
        {
          "output_type": "display_data",
          "data": {
            "application/javascript": [
              "window[\"bc37fc44-92c7-11ec-82c1-0242ac1c0002\"] = google.colab.output.getActiveOutputArea();\n",
              "//# sourceURL=js_01f9d931d0"
            ],
            "text/plain": [
              "<IPython.core.display.Javascript object>"
            ]
          },
          "metadata": {}
        },
        {
          "output_type": "display_data",
          "data": {
            "application/javascript": [
              "window[\"bc398186-92c7-11ec-82c1-0242ac1c0002\"] = document.querySelector(\"#id4-0-0\");\n",
              "//# sourceURL=js_ec82b54f74"
            ],
            "text/plain": [
              "<IPython.core.display.Javascript object>"
            ]
          },
          "metadata": {}
        },
        {
          "output_type": "display_data",
          "data": {
            "application/javascript": [
              "window[\"bc3a2226-92c7-11ec-82c1-0242ac1c0002\"] = google.colab.output.setActiveOutputArea(window[\"bc398186-92c7-11ec-82c1-0242ac1c0002\"]);\n",
              "//# sourceURL=js_2a334d1bc2"
            ],
            "text/plain": [
              "<IPython.core.display.Javascript object>"
            ]
          },
          "metadata": {}
        },
        {
          "output_type": "display_data",
          "data": {
            "application/javascript": [
              "window[\"bc55cae4-92c7-11ec-82c1-0242ac1c0002\"] = google.colab.output.setActiveOutputArea(window[\"bc37fc44-92c7-11ec-82c1-0242ac1c0002\"]);\n",
              "//# sourceURL=js_bfa7788572"
            ],
            "text/plain": [
              "<IPython.core.display.Javascript object>"
            ]
          },
          "metadata": {}
        },
        {
          "output_type": "display_data",
          "data": {
            "application/javascript": [
              "window[\"bcf1479e-92c7-11ec-82c1-0242ac1c0002\"] = google.colab.output.getActiveOutputArea();\n",
              "//# sourceURL=js_7076734302"
            ],
            "text/plain": [
              "<IPython.core.display.Javascript object>"
            ]
          },
          "metadata": {}
        },
        {
          "output_type": "display_data",
          "data": {
            "application/javascript": [
              "window[\"bcf228b2-92c7-11ec-82c1-0242ac1c0002\"] = document.querySelector(\"#id4-0-0\");\n",
              "//# sourceURL=js_8987c09586"
            ],
            "text/plain": [
              "<IPython.core.display.Javascript object>"
            ]
          },
          "metadata": {}
        },
        {
          "output_type": "display_data",
          "data": {
            "application/javascript": [
              "window[\"bcf29554-92c7-11ec-82c1-0242ac1c0002\"] = google.colab.output.setActiveOutputArea(window[\"bcf228b2-92c7-11ec-82c1-0242ac1c0002\"]);\n",
              "//# sourceURL=js_269238decb"
            ],
            "text/plain": [
              "<IPython.core.display.Javascript object>"
            ]
          },
          "metadata": {}
        },
        {
          "output_type": "display_data",
          "data": {
            "application/javascript": [
              "window[\"bd0c68a8-92c7-11ec-82c1-0242ac1c0002\"] = google.colab.output.setActiveOutputArea(window[\"bcf1479e-92c7-11ec-82c1-0242ac1c0002\"]);\n",
              "//# sourceURL=js_9b034a6a6b"
            ],
            "text/plain": [
              "<IPython.core.display.Javascript object>"
            ]
          },
          "metadata": {}
        },
        {
          "output_type": "display_data",
          "data": {
            "application/javascript": [
              "window[\"bda7607e-92c7-11ec-82c1-0242ac1c0002\"] = google.colab.output.getActiveOutputArea();\n",
              "//# sourceURL=js_b9514daf07"
            ],
            "text/plain": [
              "<IPython.core.display.Javascript object>"
            ]
          },
          "metadata": {}
        },
        {
          "output_type": "display_data",
          "data": {
            "application/javascript": [
              "window[\"bda7cd16-92c7-11ec-82c1-0242ac1c0002\"] = document.querySelector(\"#id4-0-0\");\n",
              "//# sourceURL=js_9a567b50ce"
            ],
            "text/plain": [
              "<IPython.core.display.Javascript object>"
            ]
          },
          "metadata": {}
        },
        {
          "output_type": "display_data",
          "data": {
            "application/javascript": [
              "window[\"bda88332-92c7-11ec-82c1-0242ac1c0002\"] = google.colab.output.setActiveOutputArea(window[\"bda7cd16-92c7-11ec-82c1-0242ac1c0002\"]);\n",
              "//# sourceURL=js_48fb75858a"
            ],
            "text/plain": [
              "<IPython.core.display.Javascript object>"
            ]
          },
          "metadata": {}
        },
        {
          "output_type": "display_data",
          "data": {
            "application/javascript": [
              "window[\"bdc4120a-92c7-11ec-82c1-0242ac1c0002\"] = google.colab.output.setActiveOutputArea(window[\"bda7607e-92c7-11ec-82c1-0242ac1c0002\"]);\n",
              "//# sourceURL=js_d4806aa7f9"
            ],
            "text/plain": [
              "<IPython.core.display.Javascript object>"
            ]
          },
          "metadata": {}
        },
        {
          "output_type": "display_data",
          "data": {
            "application/javascript": [
              "window[\"be5fda5a-92c7-11ec-82c1-0242ac1c0002\"] = google.colab.output.getActiveOutputArea();\n",
              "//# sourceURL=js_0ec69d1707"
            ],
            "text/plain": [
              "<IPython.core.display.Javascript object>"
            ]
          },
          "metadata": {}
        },
        {
          "output_type": "display_data",
          "data": {
            "application/javascript": [
              "window[\"be609fee-92c7-11ec-82c1-0242ac1c0002\"] = document.querySelector(\"#id4-0-0\");\n",
              "//# sourceURL=js_ec59cc92ef"
            ],
            "text/plain": [
              "<IPython.core.display.Javascript object>"
            ]
          },
          "metadata": {}
        },
        {
          "output_type": "display_data",
          "data": {
            "application/javascript": [
              "window[\"be615e20-92c7-11ec-82c1-0242ac1c0002\"] = google.colab.output.setActiveOutputArea(window[\"be609fee-92c7-11ec-82c1-0242ac1c0002\"]);\n",
              "//# sourceURL=js_61731b648d"
            ],
            "text/plain": [
              "<IPython.core.display.Javascript object>"
            ]
          },
          "metadata": {}
        },
        {
          "output_type": "display_data",
          "data": {
            "application/javascript": [
              "window[\"be7ca96e-92c7-11ec-82c1-0242ac1c0002\"] = google.colab.output.setActiveOutputArea(window[\"be5fda5a-92c7-11ec-82c1-0242ac1c0002\"]);\n",
              "//# sourceURL=js_8cf95e8efc"
            ],
            "text/plain": [
              "<IPython.core.display.Javascript object>"
            ]
          },
          "metadata": {}
        },
        {
          "output_type": "display_data",
          "data": {
            "application/javascript": [
              "window[\"bf181f98-92c7-11ec-82c1-0242ac1c0002\"] = google.colab.output.getActiveOutputArea();\n",
              "//# sourceURL=js_7a2710e8bd"
            ],
            "text/plain": [
              "<IPython.core.display.Javascript object>"
            ]
          },
          "metadata": {}
        },
        {
          "output_type": "display_data",
          "data": {
            "application/javascript": [
              "window[\"bf187c2c-92c7-11ec-82c1-0242ac1c0002\"] = document.querySelector(\"#id4-0-0\");\n",
              "//# sourceURL=js_7fcf988c68"
            ],
            "text/plain": [
              "<IPython.core.display.Javascript object>"
            ]
          },
          "metadata": {}
        },
        {
          "output_type": "display_data",
          "data": {
            "application/javascript": [
              "window[\"bf18cc54-92c7-11ec-82c1-0242ac1c0002\"] = google.colab.output.setActiveOutputArea(window[\"bf187c2c-92c7-11ec-82c1-0242ac1c0002\"]);\n",
              "//# sourceURL=js_aa6336be57"
            ],
            "text/plain": [
              "<IPython.core.display.Javascript object>"
            ]
          },
          "metadata": {}
        },
        {
          "output_type": "display_data",
          "data": {
            "application/javascript": [
              "window[\"bf3362f8-92c7-11ec-82c1-0242ac1c0002\"] = google.colab.output.setActiveOutputArea(window[\"bf181f98-92c7-11ec-82c1-0242ac1c0002\"]);\n",
              "//# sourceURL=js_8255cd1a12"
            ],
            "text/plain": [
              "<IPython.core.display.Javascript object>"
            ]
          },
          "metadata": {}
        },
        {
          "output_type": "display_data",
          "data": {
            "application/javascript": [
              "window[\"bfd088bc-92c7-11ec-82c1-0242ac1c0002\"] = google.colab.output.getActiveOutputArea();\n",
              "//# sourceURL=js_569916c07d"
            ],
            "text/plain": [
              "<IPython.core.display.Javascript object>"
            ]
          },
          "metadata": {}
        },
        {
          "output_type": "display_data",
          "data": {
            "application/javascript": [
              "window[\"bfd15256-92c7-11ec-82c1-0242ac1c0002\"] = document.querySelector(\"#id4-0-0\");\n",
              "//# sourceURL=js_16b7a27dbb"
            ],
            "text/plain": [
              "<IPython.core.display.Javascript object>"
            ]
          },
          "metadata": {}
        },
        {
          "output_type": "display_data",
          "data": {
            "application/javascript": [
              "window[\"bfd20e6c-92c7-11ec-82c1-0242ac1c0002\"] = google.colab.output.setActiveOutputArea(window[\"bfd15256-92c7-11ec-82c1-0242ac1c0002\"]);\n",
              "//# sourceURL=js_899b3addef"
            ],
            "text/plain": [
              "<IPython.core.display.Javascript object>"
            ]
          },
          "metadata": {}
        },
        {
          "output_type": "display_data",
          "data": {
            "application/javascript": [
              "window[\"bfed0ff0-92c7-11ec-82c1-0242ac1c0002\"] = google.colab.output.setActiveOutputArea(window[\"bfd088bc-92c7-11ec-82c1-0242ac1c0002\"]);\n",
              "//# sourceURL=js_aa72904ec9"
            ],
            "text/plain": [
              "<IPython.core.display.Javascript object>"
            ]
          },
          "metadata": {}
        },
        {
          "output_type": "display_data",
          "data": {
            "application/javascript": [
              "window[\"c08a6976-92c7-11ec-82c1-0242ac1c0002\"] = google.colab.output.getActiveOutputArea();\n",
              "//# sourceURL=js_9472c98395"
            ],
            "text/plain": [
              "<IPython.core.display.Javascript object>"
            ]
          },
          "metadata": {}
        },
        {
          "output_type": "display_data",
          "data": {
            "application/javascript": [
              "window[\"c08abc64-92c7-11ec-82c1-0242ac1c0002\"] = document.querySelector(\"#id4-0-0\");\n",
              "//# sourceURL=js_823e922793"
            ],
            "text/plain": [
              "<IPython.core.display.Javascript object>"
            ]
          },
          "metadata": {}
        },
        {
          "output_type": "display_data",
          "data": {
            "application/javascript": [
              "window[\"c08b2d0c-92c7-11ec-82c1-0242ac1c0002\"] = google.colab.output.setActiveOutputArea(window[\"c08abc64-92c7-11ec-82c1-0242ac1c0002\"]);\n",
              "//# sourceURL=js_7eb73d26c7"
            ],
            "text/plain": [
              "<IPython.core.display.Javascript object>"
            ]
          },
          "metadata": {}
        },
        {
          "output_type": "display_data",
          "data": {
            "application/javascript": [
              "window[\"c0a731b4-92c7-11ec-82c1-0242ac1c0002\"] = google.colab.output.setActiveOutputArea(window[\"c08a6976-92c7-11ec-82c1-0242ac1c0002\"]);\n",
              "//# sourceURL=js_2e385fd311"
            ],
            "text/plain": [
              "<IPython.core.display.Javascript object>"
            ]
          },
          "metadata": {}
        },
        {
          "output_type": "display_data",
          "data": {
            "application/javascript": [
              "window[\"c142ee2e-92c7-11ec-82c1-0242ac1c0002\"] = google.colab.output.getActiveOutputArea();\n",
              "//# sourceURL=js_f9b05247aa"
            ],
            "text/plain": [
              "<IPython.core.display.Javascript object>"
            ]
          },
          "metadata": {}
        },
        {
          "output_type": "display_data",
          "data": {
            "application/javascript": [
              "window[\"c1433230-92c7-11ec-82c1-0242ac1c0002\"] = document.querySelector(\"#id4-0-0\");\n",
              "//# sourceURL=js_6ff0ff6503"
            ],
            "text/plain": [
              "<IPython.core.display.Javascript object>"
            ]
          },
          "metadata": {}
        },
        {
          "output_type": "display_data",
          "data": {
            "application/javascript": [
              "window[\"c1442f46-92c7-11ec-82c1-0242ac1c0002\"] = google.colab.output.setActiveOutputArea(window[\"c1433230-92c7-11ec-82c1-0242ac1c0002\"]);\n",
              "//# sourceURL=js_51aaccc0d0"
            ],
            "text/plain": [
              "<IPython.core.display.Javascript object>"
            ]
          },
          "metadata": {}
        },
        {
          "output_type": "display_data",
          "data": {
            "application/javascript": [
              "window[\"c16af766-92c7-11ec-82c1-0242ac1c0002\"] = google.colab.output.setActiveOutputArea(window[\"c142ee2e-92c7-11ec-82c1-0242ac1c0002\"]);\n",
              "//# sourceURL=js_a7c27dc6e5"
            ],
            "text/plain": [
              "<IPython.core.display.Javascript object>"
            ]
          },
          "metadata": {}
        },
        {
          "output_type": "display_data",
          "data": {
            "application/javascript": [
              "window[\"c205c570-92c7-11ec-82c1-0242ac1c0002\"] = google.colab.output.getActiveOutputArea();\n",
              "//# sourceURL=js_dd1829b308"
            ],
            "text/plain": [
              "<IPython.core.display.Javascript object>"
            ]
          },
          "metadata": {}
        },
        {
          "output_type": "display_data",
          "data": {
            "application/javascript": [
              "window[\"c20630fa-92c7-11ec-82c1-0242ac1c0002\"] = document.querySelector(\"#id4-0-0\");\n",
              "//# sourceURL=js_0db76676ad"
            ],
            "text/plain": [
              "<IPython.core.display.Javascript object>"
            ]
          },
          "metadata": {}
        },
        {
          "output_type": "display_data",
          "data": {
            "application/javascript": [
              "window[\"c206a530-92c7-11ec-82c1-0242ac1c0002\"] = google.colab.output.setActiveOutputArea(window[\"c20630fa-92c7-11ec-82c1-0242ac1c0002\"]);\n",
              "//# sourceURL=js_b41cb6c0c1"
            ],
            "text/plain": [
              "<IPython.core.display.Javascript object>"
            ]
          },
          "metadata": {}
        },
        {
          "output_type": "display_data",
          "data": {
            "application/javascript": [
              "window[\"c221c84c-92c7-11ec-82c1-0242ac1c0002\"] = google.colab.output.setActiveOutputArea(window[\"c205c570-92c7-11ec-82c1-0242ac1c0002\"]);\n",
              "//# sourceURL=js_fbc9dacf6e"
            ],
            "text/plain": [
              "<IPython.core.display.Javascript object>"
            ]
          },
          "metadata": {}
        },
        {
          "output_type": "display_data",
          "data": {
            "application/javascript": [
              "window[\"c2bcd652-92c7-11ec-82c1-0242ac1c0002\"] = google.colab.output.getActiveOutputArea();\n",
              "//# sourceURL=js_4264dd85ab"
            ],
            "text/plain": [
              "<IPython.core.display.Javascript object>"
            ]
          },
          "metadata": {}
        },
        {
          "output_type": "display_data",
          "data": {
            "application/javascript": [
              "window[\"c2bd745e-92c7-11ec-82c1-0242ac1c0002\"] = document.querySelector(\"#id4-0-0\");\n",
              "//# sourceURL=js_8aa0bee051"
            ],
            "text/plain": [
              "<IPython.core.display.Javascript object>"
            ]
          },
          "metadata": {}
        },
        {
          "output_type": "display_data",
          "data": {
            "application/javascript": [
              "window[\"c2bde88a-92c7-11ec-82c1-0242ac1c0002\"] = google.colab.output.setActiveOutputArea(window[\"c2bd745e-92c7-11ec-82c1-0242ac1c0002\"]);\n",
              "//# sourceURL=js_6590205a4f"
            ],
            "text/plain": [
              "<IPython.core.display.Javascript object>"
            ]
          },
          "metadata": {}
        },
        {
          "output_type": "stream",
          "name": "stdout",
          "text": [
            "Reward: 0, Action given: right, Action taken: right\n"
          ]
        },
        {
          "output_type": "display_data",
          "data": {
            "image/png": "[encoded data removed]",
            "text/plain": [
              "<Figure size 432x288 with 1 Axes>"
            ]
          },
          "metadata": {
            "needs_background": "light"
          }
        },
        {
          "output_type": "display_data",
          "data": {
            "application/javascript": [
              "window[\"c2d88910-92c7-11ec-82c1-0242ac1c0002\"] = google.colab.output.setActiveOutputArea(window[\"c2bcd652-92c7-11ec-82c1-0242ac1c0002\"]);\n",
              "//# sourceURL=js_f40a237bb3"
            ],
            "text/plain": [
              "<IPython.core.display.Javascript object>"
            ]
          },
          "metadata": {}
        }
      ]
    },
    {
      "cell_type": "code",
      "source": [
        "actions_given"
      ],
      "metadata": {
        "colab": {
          "base_uri": "https://localhost:8080/"
        },
        "id": "WkqAInCsSi1H",
        "outputId": "e8bfa0d2-add6-41c7-c01d-b7fdcab08b4f"
      },
      "execution_count": 9,
      "outputs": [
        {
          "output_type": "execute_result",
          "data": {
            "text/plain": [
              "[1, 1, 1, 0, 0, 1, 3, 1, 3, 2]"
            ]
          },
          "metadata": {},
          "execution_count": 9
        }
      ]
    },
    {
      "cell_type": "code",
      "source": [
        "actions_taken"
      ],
      "metadata": {
        "colab": {
          "base_uri": "https://localhost:8080/"
        },
        "id": "RE4tFQJzSpXc",
        "outputId": "47b96090-17c9-4dff-f5bb-0aa80e109be5"
      },
      "execution_count": 10,
      "outputs": [
        {
          "output_type": "execute_result",
          "data": {
            "text/plain": [
              "[1, 2, 1, 0, 0, 1, 3, 1, 3, 2]"
            ]
          },
          "metadata": {},
          "execution_count": 10
        }
      ]
    },
    {
      "cell_type": "code",
      "source": [
        "rewards"
      ],
      "metadata": {
        "colab": {
          "base_uri": "https://localhost:8080/"
        },
        "id": "hJqWsxvLSqjc",
        "outputId": "d2acfabe-b590-4be8-ee0f-831f733c0560"
      },
      "execution_count": 11,
      "outputs": [
        {
          "output_type": "execute_result",
          "data": {
            "text/plain": [
              "[0, 0, 0, 7, -3, 2, 0, 0, 0, 0]"
            ]
          },
          "metadata": {},
          "execution_count": 11
        }
      ]
    },
    {
      "cell_type": "code",
      "source": [
        ""
      ],
      "metadata": {
        "id": "mn114IhIW1cB"
      },
      "execution_count": 11,
      "outputs": []
    }
  ]
}