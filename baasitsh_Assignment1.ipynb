{
  "nbformat": 4,
  "nbformat_minor": 0,
  "metadata": {
    "colab": {
      "name": "baasitsh_Assignment1.ipynb",
      "provenance": [],
      "collapsed_sections": [],
      "toc_visible": true
    },
    "kernelspec": {
      "name": "python3",
      "display_name": "Python 3"
    },
    "language_info": {
      "name": "python"
    }
  },
  "cells": [
    {
      "cell_type": "markdown",
      "source": [
        "#Assignment 1 - CSE 546 Reinforcement Learning\n",
        "\n",
        "```\n",
        "Author: Baasit Sharief \n",
        "UBID: 50418475\n",
        "\n",
        "I certify that the code and data in this assignment were generated independently, using only the tool and resources defined in the course and that I did not receive any external help, coaching or contributions during the production of this work.\n",
        "```\n",
        "\n"
      ],
      "metadata": {
        "id": "qIWO91q2PmlW"
      }
    },
    {
      "cell_type": "code",
      "source": [
        "import numpy as np\n",
        "import matplotlib\n",
        "import gym\n",
        "from gym import spaces\n",
        "from google.colab import widgets\n",
        "import time\n",
        "from tqdm import trange, tqdm\n",
        "\n",
        "matplotlib.rcParams['figure.figsize'] = (20, 10)\n",
        "plt = matplotlib.pyplot\n",
        "\n",
        "seed = 50\n",
        "np.random.seed(seed)\n"
      ],
      "metadata": {
        "id": "9j4Qb7nU6RuC"
      },
      "execution_count": 1,
      "outputs": []
    },
    {
      "cell_type": "markdown",
      "source": [
        "## Grid Environment Definition\n",
        "\n",
        "Includes both deterministic and stochastic environments"
      ],
      "metadata": {
        "id": "WWd1YBGbyQF_"
      }
    },
    {
      "cell_type": "code",
      "source": [
        "class GridEnvironment(gym.Env):\n",
        "  metadata = { 'render.modes': []}\n",
        "\n",
        "  def __init__(self, stochastic = False, max_timesteps = 5):\n",
        "    '''\n",
        "    Defines the initialization of the environment.\n",
        "\n",
        "    Input\n",
        "    ------\n",
        "    stochastic: [bool] True, if stochastic environment\n",
        "    '''\n",
        "    self.observation_space = spaces.Discrete(15)\n",
        "    self.action_space = spaces.Discrete(4)\n",
        "    self.max_timesteps = max_timesteps\n",
        "    self.stochastic = stochastic\n",
        "    self.agent_pos = [0, 0]\n",
        "\n",
        "  def reset(self):\n",
        "    '''\n",
        "    Reset the environment to initial state.\n",
        "\n",
        "    '''\n",
        "    self.timestep = 0\n",
        "    self.agent_pos = [0, 0]\n",
        "    self.goal_pos = [2, 4]\n",
        "    self.hole1_pos = [1,3]\n",
        "    self.hole2_pos = [2,1]\n",
        "    self.candy1_pos = [0,3]\n",
        "    self.candy2_pos = [1,1]\n",
        "    self.state = np.zeros((3, 5))\n",
        "    self.pos_dict = {}\n",
        "    for i in range(3):\n",
        "      for j in range(5):\n",
        "        self.pos_dict[5*i+j] = [i,j]\n",
        "    self.state[tuple(self.agent_pos)] = 1\n",
        "    self.state[tuple(self.hole1_pos)] = 0.25\n",
        "    self.state[tuple(self.hole2_pos)] = 0.25\n",
        "    self.state[tuple(self.candy1_pos)] = 0.75\n",
        "    self.state[tuple(self.candy2_pos)] = 0.75\n",
        "    self.state[tuple(self.goal_pos)] = 0.5\n",
        "    observation = self.agent_pos\n",
        "\n",
        "    return observation\n",
        "\n",
        "  def step(self, action):\n",
        "    '''\n",
        "    Define an execution of one timestep within the environment\n",
        "\n",
        "    Input\n",
        "    ------\n",
        "    action: [int] action from the action space [0,1,2,3]\n",
        "\n",
        "    Returns\n",
        "    ------\n",
        "    observation, reward, done, info\n",
        "    '''\n",
        "    # self.state = np.random.choice(self.observation_space.n)\n",
        "    info = {}\n",
        "    old_pos = self.agent_pos\n",
        "    # print('current_pos:')\n",
        "    # print(old_pos)\n",
        "    old_dist = np.sqrt(np.sum(np.square(np.array(old_pos)-np.array(self.goal_pos))))\n",
        "\n",
        "    if(self.stochastic):\n",
        "      info['action_given'] = action\n",
        "      if (np.random.uniform(0,1)<0.9):\n",
        "        action = action\n",
        "      else:\n",
        "        action = self.action_space.sample()\n",
        "      info['action_taken'] = action\n",
        "\n",
        "    if action == 0:\n",
        "      self.agent_pos[0] += 1\n",
        "    if action == 1:\n",
        "      self.agent_pos[0] -= 1\n",
        "    if action == 2:\n",
        "      self.agent_pos[1] += 1\n",
        "    if action == 3:\n",
        "      self.agent_pos[1] -= 1\n",
        "    \n",
        "    # print(f'before clipping: {self.agent_pos}')\n",
        "    self.agent_pos[0] = np.clip(self.agent_pos[0], 0, 2)\n",
        "    self.agent_pos[1] = np.clip(self.agent_pos[1], 0, 4)\n",
        "    self.agent_pos = np.array(self.agent_pos)\n",
        "\n",
        "    # print('new_pos:')\n",
        "    # print(self.agent_pos)\n",
        "\n",
        "    # print(f'after clipping: {self.agent_pos}')\n",
        "    self.state = np.zeros((3,5))\n",
        "    self.state[tuple(self.candy1_pos)] = 0.75\n",
        "    self.state[tuple(self.candy2_pos)] = 0.75\n",
        "    self.state[tuple(self.hole1_pos)] = 0.25\n",
        "    self.state[tuple(self.hole2_pos)] = 0.25\n",
        "    self.state[tuple(self.goal_pos)] = 0.5\n",
        "    \n",
        "    new_dist = np.sqrt(np.sum(np.square(np.array(self.agent_pos)-np.array(self.goal_pos))))\n",
        "    # print(old_dist)\n",
        "    # print(new_dist)\n",
        "\n",
        "    close = False\n",
        "    if(old_dist-new_dist>0):\n",
        "      close = True\n",
        "    if(close):\n",
        "      reward = +1\n",
        "    elif(old_dist==new_dist):\n",
        "      reward = 0\n",
        "    else:\n",
        "      reward = -1\n",
        "\n",
        "    if (self.agent_pos == self.goal_pos).all():\n",
        "      reward = +10 #deterministic reward\n",
        "      self.state[tuple(self.agent_pos)] = 1\n",
        "    elif (self.agent_pos == self.candy1_pos).all() and close:\n",
        "      reward = +2 #deterministic reward\n",
        "      if(self.stochastic):\n",
        "        if(np.random.uniform(0,1)<0.50):\n",
        "          reward = +2\n",
        "      self.state[tuple(self.agent_pos)] = 1\n",
        "      # self.state[tuple(self.candy2_pos)] = 0.75\n",
        "    elif (self.agent_pos == self.candy2_pos).all() and close:\n",
        "      reward = +2 #deterministic reward\n",
        "      if(self.stochastic):\n",
        "        if(np.random.uniform(0,1)<0.50):\n",
        "          reward = +2\n",
        "      # self.state[tuple(self.candy1_pos)] = 0.75\n",
        "      self.state[tuple(self.agent_pos)] = 1\n",
        "    elif (self.agent_pos == self.hole1_pos).all():\n",
        "      reward = -3 #deterministic reward\n",
        "      if(self.stochastic):\n",
        "        if(np.random.uniform(0,1)<0.9):\n",
        "          reward = -3\n",
        "      self.state[tuple(self.hole1_pos)] = 1\n",
        "      self.state[tuple(self.hole2_pos)] = 0.25\n",
        "    elif(self.agent_pos == self.hole2_pos).all():\n",
        "      reward = -3 #deterministic reward\n",
        "      if(self.stochastic):\n",
        "        if(np.random.uniform(0,1)<0.9):\n",
        "          reward = -3\n",
        "      self.state[tuple(self.hole1_pos)] = 0.25\n",
        "      self.state[tuple(self.hole2_pos)] = 1\n",
        "    else:\n",
        "      self.state[tuple(self.agent_pos)] = 1\n",
        "      self.state[tuple(self.candy1_pos)] = 0.75\n",
        "      self.state[tuple(self.candy2_pos)] = 0.75\n",
        "      self.state[tuple(self.hole1_pos)] = 0.25\n",
        "      self.state[tuple(self.hole2_pos)] = 0.25\n",
        "      self.state[tuple(self.goal_pos)] = 0.5\n",
        "\n",
        "    observation = self.agent_pos\n",
        "    # observation = np.where(observation == 1, observation)\n",
        "\n",
        "    self.timestep += 1\n",
        "    done = True if ((self.timestep >= self.max_timesteps) or (self.agent_pos == self.goal_pos).all()) else False\n",
        "\n",
        "    return observation, reward, done, info\n",
        "\n",
        "  def render(self):\n",
        "    '''\n",
        "    Render the GridEnvironment\n",
        "    '''\n",
        "    plt.imshow(self.state)"
      ],
      "metadata": {
        "id": "UM3-Q6zv68Ib"
      },
      "execution_count": 2,
      "outputs": []
    },
    {
      "cell_type": "markdown",
      "source": [
        "## Deterministic"
      ],
      "metadata": {
        "id": "cT0zZxxDRh-e"
      }
    },
    {
      "cell_type": "code",
      "source": [
        "env = GridEnvironment(max_timesteps = 10)\n",
        "obs = env.reset()\n",
        "env.render()"
      ],
      "metadata": {
        "colab": {
          "base_uri": "https://localhost:8080/",
          "height": 253
        },
        "id": "8Rk7dsV99XZ2",
        "outputId": "69998895-6188-46fc-b1ff-723b816a9dfa"
      },
      "execution_count": 3,
      "outputs": [
        {
          "output_type": "display_data",
          "data": {
            "image/png": "[encoded data removed]",
            "text/plain": [
              "<Figure size 432x288 with 1 Axes>"
            ]
          },
          "metadata": {
            "needs_background": "light"
          }
        }
      ]
    },
    {
      "cell_type": "code",
      "source": [
        "env.reset()\n",
        "actions_given = []\n",
        "rewards = []\n",
        "observations = []\n",
        "action_dict = {\n",
        "    0: 'down',\n",
        "    1: 'up',\n",
        "    2: 'right',\n",
        "    3: 'left',\n",
        "}\n",
        "\n",
        "output_grid = widgets.Grid(1,1)\n",
        "for _ in range(10):\n",
        "  action = np.random.randint(0,4)\n",
        "  observation, reward, done, info = env.step(action)\n",
        "  actions_given.append(action)\n",
        "  rewards.append(reward)\n",
        "  observations.append(observation)\n",
        "  with output_grid.output_to(0,0):\n",
        "    output_grid.clear_cell()\n",
        "    env.render()\n",
        "    print(f'Reward: {reward}, Action taken: {action_dict[action]}, Done: {done}')\n",
        "  time.sleep(1)"
      ],
      "metadata": {
        "colab": {
          "base_uri": "https://localhost:8080/",
          "height": 274
        },
        "id": "iYkVISkn9dJp",
        "outputId": "b6cd7023-f54d-4b82-ebc7-d24532267b21"
      },
      "execution_count": 4,
      "outputs": [
        {
          "output_type": "display_data",
          "data": {
            "text/html": [
              "<style>\n",
              "       table#id2, #id2 > tbody > tr > th, #id2 > tbody > tr > td {\n",
              "         border: 1px solid lightgray;\n",
              "         border-collapse:collapse;\n",
              "         \n",
              "        }</style>"
            ],
            "text/plain": [
              "<IPython.core.display.HTML object>"
            ]
          },
          "metadata": {}
        },
        {
          "output_type": "display_data",
          "data": {
            "text/html": [
              "<table id=id2><tr><td id=id2-0-0></td></tr></table>"
            ],
            "text/plain": [
              "<IPython.core.display.HTML object>"
            ]
          },
          "metadata": {}
        },
        {
          "output_type": "display_data",
          "data": {
            "application/javascript": [
              "window[\"999117c0-9dc6-11ec-befc-0242ac1c0002\"] = google.colab.output.getActiveOutputArea();\n",
              "//# sourceURL=js_aa21332f71"
            ],
            "text/plain": [
              "<IPython.core.display.Javascript object>"
            ]
          },
          "metadata": {}
        },
        {
          "output_type": "display_data",
          "data": {
            "application/javascript": [
              "window[\"9991a97e-9dc6-11ec-befc-0242ac1c0002\"] = document.querySelector(\"#id2-0-0\");\n",
              "//# sourceURL=js_f0417ac316"
            ],
            "text/plain": [
              "<IPython.core.display.Javascript object>"
            ]
          },
          "metadata": {}
        },
        {
          "output_type": "display_data",
          "data": {
            "application/javascript": [
              "window[\"9992339e-9dc6-11ec-befc-0242ac1c0002\"] = google.colab.output.setActiveOutputArea(window[\"9991a97e-9dc6-11ec-befc-0242ac1c0002\"]);\n",
              "//# sourceURL=js_39d8121d5c"
            ],
            "text/plain": [
              "<IPython.core.display.Javascript object>"
            ]
          },
          "metadata": {}
        },
        {
          "output_type": "display_data",
          "data": {
            "application/javascript": [
              "window[\"99aefa60-9dc6-11ec-befc-0242ac1c0002\"] = google.colab.output.setActiveOutputArea(window[\"999117c0-9dc6-11ec-befc-0242ac1c0002\"]);\n",
              "//# sourceURL=js_639412a083"
            ],
            "text/plain": [
              "<IPython.core.display.Javascript object>"
            ]
          },
          "metadata": {}
        },
        {
          "output_type": "display_data",
          "data": {
            "application/javascript": [
              "window[\"9a4dd00e-9dc6-11ec-befc-0242ac1c0002\"] = google.colab.output.getActiveOutputArea();\n",
              "//# sourceURL=js_c4c3636e98"
            ],
            "text/plain": [
              "<IPython.core.display.Javascript object>"
            ]
          },
          "metadata": {}
        },
        {
          "output_type": "display_data",
          "data": {
            "application/javascript": [
              "window[\"9a4f13a6-9dc6-11ec-befc-0242ac1c0002\"] = document.querySelector(\"#id2-0-0\");\n",
              "//# sourceURL=js_16a3afbb2d"
            ],
            "text/plain": [
              "<IPython.core.display.Javascript object>"
            ]
          },
          "metadata": {}
        },
        {
          "output_type": "display_data",
          "data": {
            "application/javascript": [
              "window[\"9a501ee0-9dc6-11ec-befc-0242ac1c0002\"] = google.colab.output.setActiveOutputArea(window[\"9a4f13a6-9dc6-11ec-befc-0242ac1c0002\"]);\n",
              "//# sourceURL=js_d8e388296f"
            ],
            "text/plain": [
              "<IPython.core.display.Javascript object>"
            ]
          },
          "metadata": {}
        },
        {
          "output_type": "display_data",
          "data": {
            "application/javascript": [
              "window[\"9a8b355c-9dc6-11ec-befc-0242ac1c0002\"] = google.colab.output.setActiveOutputArea(window[\"9a4dd00e-9dc6-11ec-befc-0242ac1c0002\"]);\n",
              "//# sourceURL=js_998010ef9d"
            ],
            "text/plain": [
              "<IPython.core.display.Javascript object>"
            ]
          },
          "metadata": {}
        },
        {
          "output_type": "display_data",
          "data": {
            "application/javascript": [
              "window[\"9b268638-9dc6-11ec-befc-0242ac1c0002\"] = google.colab.output.getActiveOutputArea();\n",
              "//# sourceURL=js_366a95014b"
            ],
            "text/plain": [
              "<IPython.core.display.Javascript object>"
            ]
          },
          "metadata": {}
        },
        {
          "output_type": "display_data",
          "data": {
            "application/javascript": [
              "window[\"9b272c3c-9dc6-11ec-befc-0242ac1c0002\"] = document.querySelector(\"#id2-0-0\");\n",
              "//# sourceURL=js_62e58d1099"
            ],
            "text/plain": [
              "<IPython.core.display.Javascript object>"
            ]
          },
          "metadata": {}
        },
        {
          "output_type": "display_data",
          "data": {
            "application/javascript": [
              "window[\"9b27b616-9dc6-11ec-befc-0242ac1c0002\"] = google.colab.output.setActiveOutputArea(window[\"9b272c3c-9dc6-11ec-befc-0242ac1c0002\"]);\n",
              "//# sourceURL=js_44a3318efe"
            ],
            "text/plain": [
              "<IPython.core.display.Javascript object>"
            ]
          },
          "metadata": {}
        },
        {
          "output_type": "display_data",
          "data": {
            "application/javascript": [
              "window[\"9b5986aa-9dc6-11ec-befc-0242ac1c0002\"] = google.colab.output.setActiveOutputArea(window[\"9b268638-9dc6-11ec-befc-0242ac1c0002\"]);\n",
              "//# sourceURL=js_9c6c9ae084"
            ],
            "text/plain": [
              "<IPython.core.display.Javascript object>"
            ]
          },
          "metadata": {}
        },
        {
          "output_type": "display_data",
          "data": {
            "application/javascript": [
              "window[\"9bf69a94-9dc6-11ec-befc-0242ac1c0002\"] = google.colab.output.getActiveOutputArea();\n",
              "//# sourceURL=js_6c3bd72a8b"
            ],
            "text/plain": [
              "<IPython.core.display.Javascript object>"
            ]
          },
          "metadata": {}
        },
        {
          "output_type": "display_data",
          "data": {
            "application/javascript": [
              "window[\"9bf7a1dc-9dc6-11ec-befc-0242ac1c0002\"] = document.querySelector(\"#id2-0-0\");\n",
              "//# sourceURL=js_00261e2b3e"
            ],
            "text/plain": [
              "<IPython.core.display.Javascript object>"
            ]
          },
          "metadata": {}
        },
        {
          "output_type": "display_data",
          "data": {
            "application/javascript": [
              "window[\"9bf8c896-9dc6-11ec-befc-0242ac1c0002\"] = google.colab.output.setActiveOutputArea(window[\"9bf7a1dc-9dc6-11ec-befc-0242ac1c0002\"]);\n",
              "//# sourceURL=js_c41d87900e"
            ],
            "text/plain": [
              "<IPython.core.display.Javascript object>"
            ]
          },
          "metadata": {}
        },
        {
          "output_type": "display_data",
          "data": {
            "application/javascript": [
              "window[\"9c4cabf0-9dc6-11ec-befc-0242ac1c0002\"] = google.colab.output.setActiveOutputArea(window[\"9bf69a94-9dc6-11ec-befc-0242ac1c0002\"]);\n",
              "//# sourceURL=js_b3dc000015"
            ],
            "text/plain": [
              "<IPython.core.display.Javascript object>"
            ]
          },
          "metadata": {}
        },
        {
          "output_type": "display_data",
          "data": {
            "application/javascript": [
              "window[\"9cec59c0-9dc6-11ec-befc-0242ac1c0002\"] = google.colab.output.getActiveOutputArea();\n",
              "//# sourceURL=js_ae25e162aa"
            ],
            "text/plain": [
              "<IPython.core.display.Javascript object>"
            ]
          },
          "metadata": {}
        },
        {
          "output_type": "display_data",
          "data": {
            "application/javascript": [
              "window[\"9cedbdba-9dc6-11ec-befc-0242ac1c0002\"] = document.querySelector(\"#id2-0-0\");\n",
              "//# sourceURL=js_8a63ee511f"
            ],
            "text/plain": [
              "<IPython.core.display.Javascript object>"
            ]
          },
          "metadata": {}
        },
        {
          "output_type": "display_data",
          "data": {
            "application/javascript": [
              "window[\"9ceed6fa-9dc6-11ec-befc-0242ac1c0002\"] = google.colab.output.setActiveOutputArea(window[\"9cedbdba-9dc6-11ec-befc-0242ac1c0002\"]);\n",
              "//# sourceURL=js_a88336d5ae"
            ],
            "text/plain": [
              "<IPython.core.display.Javascript object>"
            ]
          },
          "metadata": {}
        },
        {
          "output_type": "display_data",
          "data": {
            "application/javascript": [
              "window[\"9d2f7872-9dc6-11ec-befc-0242ac1c0002\"] = google.colab.output.setActiveOutputArea(window[\"9cec59c0-9dc6-11ec-befc-0242ac1c0002\"]);\n",
              "//# sourceURL=js_6763c9cc02"
            ],
            "text/plain": [
              "<IPython.core.display.Javascript object>"
            ]
          },
          "metadata": {}
        },
        {
          "output_type": "display_data",
          "data": {
            "application/javascript": [
              "window[\"9dcbb32c-9dc6-11ec-befc-0242ac1c0002\"] = google.colab.output.getActiveOutputArea();\n",
              "//# sourceURL=js_e872c64977"
            ],
            "text/plain": [
              "<IPython.core.display.Javascript object>"
            ]
          },
          "metadata": {}
        },
        {
          "output_type": "display_data",
          "data": {
            "application/javascript": [
              "window[\"9dcd5222-9dc6-11ec-befc-0242ac1c0002\"] = document.querySelector(\"#id2-0-0\");\n",
              "//# sourceURL=js_182b951bc5"
            ],
            "text/plain": [
              "<IPython.core.display.Javascript object>"
            ]
          },
          "metadata": {}
        },
        {
          "output_type": "display_data",
          "data": {
            "application/javascript": [
              "window[\"9dce12a2-9dc6-11ec-befc-0242ac1c0002\"] = google.colab.output.setActiveOutputArea(window[\"9dcd5222-9dc6-11ec-befc-0242ac1c0002\"]);\n",
              "//# sourceURL=js_e3eb4f1151"
            ],
            "text/plain": [
              "<IPython.core.display.Javascript object>"
            ]
          },
          "metadata": {}
        },
        {
          "output_type": "display_data",
          "data": {
            "application/javascript": [
              "window[\"9dea9bca-9dc6-11ec-befc-0242ac1c0002\"] = google.colab.output.setActiveOutputArea(window[\"9dcbb32c-9dc6-11ec-befc-0242ac1c0002\"]);\n",
              "//# sourceURL=js_2947edce15"
            ],
            "text/plain": [
              "<IPython.core.display.Javascript object>"
            ]
          },
          "metadata": {}
        },
        {
          "output_type": "display_data",
          "data": {
            "application/javascript": [
              "window[\"9e87e3bc-9dc6-11ec-befc-0242ac1c0002\"] = google.colab.output.getActiveOutputArea();\n",
              "//# sourceURL=js_edc1b19170"
            ],
            "text/plain": [
              "<IPython.core.display.Javascript object>"
            ]
          },
          "metadata": {}
        },
        {
          "output_type": "display_data",
          "data": {
            "application/javascript": [
              "window[\"9e883c5e-9dc6-11ec-befc-0242ac1c0002\"] = document.querySelector(\"#id2-0-0\");\n",
              "//# sourceURL=js_6f4d77f28a"
            ],
            "text/plain": [
              "<IPython.core.display.Javascript object>"
            ]
          },
          "metadata": {}
        },
        {
          "output_type": "display_data",
          "data": {
            "application/javascript": [
              "window[\"9e889a8c-9dc6-11ec-befc-0242ac1c0002\"] = google.colab.output.setActiveOutputArea(window[\"9e883c5e-9dc6-11ec-befc-0242ac1c0002\"]);\n",
              "//# sourceURL=js_2f18e9bc09"
            ],
            "text/plain": [
              "<IPython.core.display.Javascript object>"
            ]
          },
          "metadata": {}
        },
        {
          "output_type": "display_data",
          "data": {
            "application/javascript": [
              "window[\"9ea64794-9dc6-11ec-befc-0242ac1c0002\"] = google.colab.output.setActiveOutputArea(window[\"9e87e3bc-9dc6-11ec-befc-0242ac1c0002\"]);\n",
              "//# sourceURL=js_11bf0bda87"
            ],
            "text/plain": [
              "<IPython.core.display.Javascript object>"
            ]
          },
          "metadata": {}
        },
        {
          "output_type": "display_data",
          "data": {
            "application/javascript": [
              "window[\"9f4137d6-9dc6-11ec-befc-0242ac1c0002\"] = google.colab.output.getActiveOutputArea();\n",
              "//# sourceURL=js_426c778de8"
            ],
            "text/plain": [
              "<IPython.core.display.Javascript object>"
            ]
          },
          "metadata": {}
        },
        {
          "output_type": "display_data",
          "data": {
            "application/javascript": [
              "window[\"9f41a216-9dc6-11ec-befc-0242ac1c0002\"] = document.querySelector(\"#id2-0-0\");\n",
              "//# sourceURL=js_822896d039"
            ],
            "text/plain": [
              "<IPython.core.display.Javascript object>"
            ]
          },
          "metadata": {}
        },
        {
          "output_type": "display_data",
          "data": {
            "application/javascript": [
              "window[\"9f420a94-9dc6-11ec-befc-0242ac1c0002\"] = google.colab.output.setActiveOutputArea(window[\"9f41a216-9dc6-11ec-befc-0242ac1c0002\"]);\n",
              "//# sourceURL=js_66229d318d"
            ],
            "text/plain": [
              "<IPython.core.display.Javascript object>"
            ]
          },
          "metadata": {}
        },
        {
          "output_type": "display_data",
          "data": {
            "application/javascript": [
              "window[\"9f5d700e-9dc6-11ec-befc-0242ac1c0002\"] = google.colab.output.setActiveOutputArea(window[\"9f4137d6-9dc6-11ec-befc-0242ac1c0002\"]);\n",
              "//# sourceURL=js_391e540f42"
            ],
            "text/plain": [
              "<IPython.core.display.Javascript object>"
            ]
          },
          "metadata": {}
        },
        {
          "output_type": "display_data",
          "data": {
            "application/javascript": [
              "window[\"9ff81942-9dc6-11ec-befc-0242ac1c0002\"] = google.colab.output.getActiveOutputArea();\n",
              "//# sourceURL=js_95462be710"
            ],
            "text/plain": [
              "<IPython.core.display.Javascript object>"
            ]
          },
          "metadata": {}
        },
        {
          "output_type": "display_data",
          "data": {
            "application/javascript": [
              "window[\"9ff86c76-9dc6-11ec-befc-0242ac1c0002\"] = document.querySelector(\"#id2-0-0\");\n",
              "//# sourceURL=js_659d3ea021"
            ],
            "text/plain": [
              "<IPython.core.display.Javascript object>"
            ]
          },
          "metadata": {}
        },
        {
          "output_type": "display_data",
          "data": {
            "application/javascript": [
              "window[\"9ff8c4dc-9dc6-11ec-befc-0242ac1c0002\"] = google.colab.output.setActiveOutputArea(window[\"9ff86c76-9dc6-11ec-befc-0242ac1c0002\"]);\n",
              "//# sourceURL=js_8b2f7615c7"
            ],
            "text/plain": [
              "<IPython.core.display.Javascript object>"
            ]
          },
          "metadata": {}
        },
        {
          "output_type": "display_data",
          "data": {
            "application/javascript": [
              "window[\"a01243f8-9dc6-11ec-befc-0242ac1c0002\"] = google.colab.output.setActiveOutputArea(window[\"9ff81942-9dc6-11ec-befc-0242ac1c0002\"]);\n",
              "//# sourceURL=js_1086c56097"
            ],
            "text/plain": [
              "<IPython.core.display.Javascript object>"
            ]
          },
          "metadata": {}
        },
        {
          "output_type": "display_data",
          "data": {
            "application/javascript": [
              "window[\"a0ad5050-9dc6-11ec-befc-0242ac1c0002\"] = google.colab.output.getActiveOutputArea();\n",
              "//# sourceURL=js_9e6bbf253a"
            ],
            "text/plain": [
              "<IPython.core.display.Javascript object>"
            ]
          },
          "metadata": {}
        },
        {
          "output_type": "display_data",
          "data": {
            "application/javascript": [
              "window[\"a0ade7f4-9dc6-11ec-befc-0242ac1c0002\"] = document.querySelector(\"#id2-0-0\");\n",
              "//# sourceURL=js_ff1206deda"
            ],
            "text/plain": [
              "<IPython.core.display.Javascript object>"
            ]
          },
          "metadata": {}
        },
        {
          "output_type": "display_data",
          "data": {
            "application/javascript": [
              "window[\"a0ae9de8-9dc6-11ec-befc-0242ac1c0002\"] = google.colab.output.setActiveOutputArea(window[\"a0ade7f4-9dc6-11ec-befc-0242ac1c0002\"]);\n",
              "//# sourceURL=js_5ffe28fa21"
            ],
            "text/plain": [
              "<IPython.core.display.Javascript object>"
            ]
          },
          "metadata": {}
        },
        {
          "output_type": "stream",
          "name": "stdout",
          "text": [
            "Reward: 2, Action taken: right, Done: True\n"
          ]
        },
        {
          "output_type": "display_data",
          "data": {
            "image/png": "[encoded data removed]",
            "text/plain": [
              "<Figure size 432x288 with 1 Axes>"
            ]
          },
          "metadata": {
            "needs_background": "light"
          }
        },
        {
          "output_type": "display_data",
          "data": {
            "application/javascript": [
              "window[\"a0cc6634-9dc6-11ec-befc-0242ac1c0002\"] = google.colab.output.setActiveOutputArea(window[\"a0ad5050-9dc6-11ec-befc-0242ac1c0002\"]);\n",
              "//# sourceURL=js_64ac071a12"
            ],
            "text/plain": [
              "<IPython.core.display.Javascript object>"
            ]
          },
          "metadata": {}
        }
      ]
    },
    {
      "cell_type": "code",
      "source": [
        "actions_given"
      ],
      "metadata": {
        "colab": {
          "base_uri": "https://localhost:8080/"
        },
        "id": "46P23QM0StSU",
        "outputId": "8a37df7f-3876-450b-974f-939c6f88c424"
      },
      "execution_count": 5,
      "outputs": [
        {
          "output_type": "execute_result",
          "data": {
            "text/plain": [
              "[0, 0, 3, 1, 1, 2, 0, 2, 1, 2]"
            ]
          },
          "metadata": {},
          "execution_count": 5
        }
      ]
    },
    {
      "cell_type": "code",
      "source": [
        "rewards"
      ],
      "metadata": {
        "colab": {
          "base_uri": "https://localhost:8080/"
        },
        "id": "vEhzZo6oSwQ_",
        "outputId": "da548242-d35c-4d6b-e0f9-98d53856e186"
      },
      "execution_count": 6,
      "outputs": [
        {
          "output_type": "execute_result",
          "data": {
            "text/plain": [
              "[1, 1, 0, -1, -1, 1, 2, 1, -1, 2]"
            ]
          },
          "metadata": {},
          "execution_count": 6
        }
      ]
    },
    {
      "cell_type": "markdown",
      "source": [
        "## Stochastic Environment"
      ],
      "metadata": {
        "id": "xT4k8RaNSJo9"
      }
    },
    {
      "cell_type": "code",
      "source": [
        "env = GridEnvironment(stochastic=True)\n",
        "obs = env.reset()\n",
        "env.render()"
      ],
      "metadata": {
        "colab": {
          "base_uri": "https://localhost:8080/",
          "height": 253
        },
        "id": "ZvfRP9BJSG19",
        "outputId": "b1b34e84-298c-4dad-87b6-0315d229989e"
      },
      "execution_count": 7,
      "outputs": [
        {
          "output_type": "display_data",
          "data": {
            "image/png": "[encoded data removed]",
            "text/plain": [
              "<Figure size 432x288 with 1 Axes>"
            ]
          },
          "metadata": {
            "needs_background": "light"
          }
        }
      ]
    },
    {
      "cell_type": "code",
      "source": [
        "env.reset()\n",
        "actions_given = []\n",
        "actions_taken = []\n",
        "rewards = []\n",
        "observations = []\n",
        "action_dict = {\n",
        "    0: 'down',\n",
        "    1: 'up',\n",
        "    2: 'right',\n",
        "    3: 'left',\n",
        "}\n",
        "\n",
        "output_grid = widgets.Grid(1,1)\n",
        "for _ in range(10):\n",
        "  action = np.random.randint(0,4)\n",
        "  observation, reward, done, info = env.step(action)\n",
        "  action_taken = info['action_taken']\n",
        "  actions_given.append(action)\n",
        "  actions_taken.append(action_taken)\n",
        "  rewards.append(reward)\n",
        "  observations.append(observation)\n",
        "  with output_grid.output_to(0,0):\n",
        "    output_grid.clear_cell()\n",
        "    env.render()\n",
        "    print(f'Reward: {reward}, Action given: {action_dict[action]}, Action taken: {action_dict[action_taken]}')\n",
        "  time.sleep(1)"
      ],
      "metadata": {
        "id": "pZxBVxytHMrI",
        "colab": {
          "base_uri": "https://localhost:8080/",
          "height": 274
        },
        "outputId": "fcfd0d7f-b8b7-4d34-f113-a49049b430c1"
      },
      "execution_count": 8,
      "outputs": [
        {
          "output_type": "display_data",
          "data": {
            "text/html": [
              "<style>\n",
              "       table#id4, #id4 > tbody > tr > th, #id4 > tbody > tr > td {\n",
              "         border: 1px solid lightgray;\n",
              "         border-collapse:collapse;\n",
              "         \n",
              "        }</style>"
            ],
            "text/plain": [
              "<IPython.core.display.HTML object>"
            ]
          },
          "metadata": {}
        },
        {
          "output_type": "display_data",
          "data": {
            "text/html": [
              "<table id=id4><tr><td id=id4-0-0></td></tr></table>"
            ],
            "text/plain": [
              "<IPython.core.display.HTML object>"
            ]
          },
          "metadata": {}
        },
        {
          "output_type": "display_data",
          "data": {
            "application/javascript": [
              "window[\"a1978df0-9dc6-11ec-befc-0242ac1c0002\"] = google.colab.output.getActiveOutputArea();\n",
              "//# sourceURL=js_45ec40176e"
            ],
            "text/plain": [
              "<IPython.core.display.Javascript object>"
            ]
          },
          "metadata": {}
        },
        {
          "output_type": "display_data",
          "data": {
            "application/javascript": [
              "window[\"a1986a90-9dc6-11ec-befc-0242ac1c0002\"] = document.querySelector(\"#id4-0-0\");\n",
              "//# sourceURL=js_af9f66f974"
            ],
            "text/plain": [
              "<IPython.core.display.Javascript object>"
            ]
          },
          "metadata": {}
        },
        {
          "output_type": "display_data",
          "data": {
            "application/javascript": [
              "window[\"a19947bc-9dc6-11ec-befc-0242ac1c0002\"] = google.colab.output.setActiveOutputArea(window[\"a1986a90-9dc6-11ec-befc-0242ac1c0002\"]);\n",
              "//# sourceURL=js_e6a134ceed"
            ],
            "text/plain": [
              "<IPython.core.display.Javascript object>"
            ]
          },
          "metadata": {}
        },
        {
          "output_type": "display_data",
          "data": {
            "application/javascript": [
              "window[\"a1ba0b96-9dc6-11ec-befc-0242ac1c0002\"] = google.colab.output.setActiveOutputArea(window[\"a1978df0-9dc6-11ec-befc-0242ac1c0002\"]);\n",
              "//# sourceURL=js_b9551f6a97"
            ],
            "text/plain": [
              "<IPython.core.display.Javascript object>"
            ]
          },
          "metadata": {}
        },
        {
          "output_type": "display_data",
          "data": {
            "application/javascript": [
              "window[\"a2552f4a-9dc6-11ec-befc-0242ac1c0002\"] = google.colab.output.getActiveOutputArea();\n",
              "//# sourceURL=js_f756d833a1"
            ],
            "text/plain": [
              "<IPython.core.display.Javascript object>"
            ]
          },
          "metadata": {}
        },
        {
          "output_type": "display_data",
          "data": {
            "application/javascript": [
              "window[\"a255905c-9dc6-11ec-befc-0242ac1c0002\"] = document.querySelector(\"#id4-0-0\");\n",
              "//# sourceURL=js_a8fe2279fe"
            ],
            "text/plain": [
              "<IPython.core.display.Javascript object>"
            ]
          },
          "metadata": {}
        },
        {
          "output_type": "display_data",
          "data": {
            "application/javascript": [
              "window[\"a255fe98-9dc6-11ec-befc-0242ac1c0002\"] = google.colab.output.setActiveOutputArea(window[\"a255905c-9dc6-11ec-befc-0242ac1c0002\"]);\n",
              "//# sourceURL=js_544c5a042b"
            ],
            "text/plain": [
              "<IPython.core.display.Javascript object>"
            ]
          },
          "metadata": {}
        },
        {
          "output_type": "display_data",
          "data": {
            "application/javascript": [
              "window[\"a279893a-9dc6-11ec-befc-0242ac1c0002\"] = google.colab.output.setActiveOutputArea(window[\"a2552f4a-9dc6-11ec-befc-0242ac1c0002\"]);\n",
              "//# sourceURL=js_6211048db1"
            ],
            "text/plain": [
              "<IPython.core.display.Javascript object>"
            ]
          },
          "metadata": {}
        },
        {
          "output_type": "display_data",
          "data": {
            "application/javascript": [
              "window[\"a314ae60-9dc6-11ec-befc-0242ac1c0002\"] = google.colab.output.getActiveOutputArea();\n",
              "//# sourceURL=js_07f09abe9a"
            ],
            "text/plain": [
              "<IPython.core.display.Javascript object>"
            ]
          },
          "metadata": {}
        },
        {
          "output_type": "display_data",
          "data": {
            "application/javascript": [
              "window[\"a315103a-9dc6-11ec-befc-0242ac1c0002\"] = document.querySelector(\"#id4-0-0\");\n",
              "//# sourceURL=js_18876a2202"
            ],
            "text/plain": [
              "<IPython.core.display.Javascript object>"
            ]
          },
          "metadata": {}
        },
        {
          "output_type": "display_data",
          "data": {
            "application/javascript": [
              "window[\"a3159190-9dc6-11ec-befc-0242ac1c0002\"] = google.colab.output.setActiveOutputArea(window[\"a315103a-9dc6-11ec-befc-0242ac1c0002\"]);\n",
              "//# sourceURL=js_c172f22275"
            ],
            "text/plain": [
              "<IPython.core.display.Javascript object>"
            ]
          },
          "metadata": {}
        },
        {
          "output_type": "display_data",
          "data": {
            "application/javascript": [
              "window[\"a3310a88-9dc6-11ec-befc-0242ac1c0002\"] = google.colab.output.setActiveOutputArea(window[\"a314ae60-9dc6-11ec-befc-0242ac1c0002\"]);\n",
              "//# sourceURL=js_2e1e7a32f1"
            ],
            "text/plain": [
              "<IPython.core.display.Javascript object>"
            ]
          },
          "metadata": {}
        },
        {
          "output_type": "display_data",
          "data": {
            "application/javascript": [
              "window[\"a3cc4390-9dc6-11ec-befc-0242ac1c0002\"] = google.colab.output.getActiveOutputArea();\n",
              "//# sourceURL=js_d3b7679213"
            ],
            "text/plain": [
              "<IPython.core.display.Javascript object>"
            ]
          },
          "metadata": {}
        },
        {
          "output_type": "display_data",
          "data": {
            "application/javascript": [
              "window[\"a3cca952-9dc6-11ec-befc-0242ac1c0002\"] = document.querySelector(\"#id4-0-0\");\n",
              "//# sourceURL=js_056afa2cda"
            ],
            "text/plain": [
              "<IPython.core.display.Javascript object>"
            ]
          },
          "metadata": {}
        },
        {
          "output_type": "display_data",
          "data": {
            "application/javascript": [
              "window[\"a3cd71ac-9dc6-11ec-befc-0242ac1c0002\"] = google.colab.output.setActiveOutputArea(window[\"a3cca952-9dc6-11ec-befc-0242ac1c0002\"]);\n",
              "//# sourceURL=js_96b9e44383"
            ],
            "text/plain": [
              "<IPython.core.display.Javascript object>"
            ]
          },
          "metadata": {}
        },
        {
          "output_type": "display_data",
          "data": {
            "application/javascript": [
              "window[\"a3e85e40-9dc6-11ec-befc-0242ac1c0002\"] = google.colab.output.setActiveOutputArea(window[\"a3cc4390-9dc6-11ec-befc-0242ac1c0002\"]);\n",
              "//# sourceURL=js_6fc7d5c219"
            ],
            "text/plain": [
              "<IPython.core.display.Javascript object>"
            ]
          },
          "metadata": {}
        },
        {
          "output_type": "display_data",
          "data": {
            "application/javascript": [
              "window[\"a4833f5a-9dc6-11ec-befc-0242ac1c0002\"] = google.colab.output.getActiveOutputArea();\n",
              "//# sourceURL=js_8dba456fb3"
            ],
            "text/plain": [
              "<IPython.core.display.Javascript object>"
            ]
          },
          "metadata": {}
        },
        {
          "output_type": "display_data",
          "data": {
            "application/javascript": [
              "window[\"a4838262-9dc6-11ec-befc-0242ac1c0002\"] = document.querySelector(\"#id4-0-0\");\n",
              "//# sourceURL=js_8b6f37fba5"
            ],
            "text/plain": [
              "<IPython.core.display.Javascript object>"
            ]
          },
          "metadata": {}
        },
        {
          "output_type": "display_data",
          "data": {
            "application/javascript": [
              "window[\"a483c560-9dc6-11ec-befc-0242ac1c0002\"] = google.colab.output.setActiveOutputArea(window[\"a4838262-9dc6-11ec-befc-0242ac1c0002\"]);\n",
              "//# sourceURL=js_0ff3dfb35f"
            ],
            "text/plain": [
              "<IPython.core.display.Javascript object>"
            ]
          },
          "metadata": {}
        },
        {
          "output_type": "display_data",
          "data": {
            "application/javascript": [
              "window[\"a49e2590-9dc6-11ec-befc-0242ac1c0002\"] = google.colab.output.setActiveOutputArea(window[\"a4833f5a-9dc6-11ec-befc-0242ac1c0002\"]);\n",
              "//# sourceURL=js_b712c2ae2d"
            ],
            "text/plain": [
              "<IPython.core.display.Javascript object>"
            ]
          },
          "metadata": {}
        },
        {
          "output_type": "display_data",
          "data": {
            "application/javascript": [
              "window[\"a5390b50-9dc6-11ec-befc-0242ac1c0002\"] = google.colab.output.getActiveOutputArea();\n",
              "//# sourceURL=js_50aff000a7"
            ],
            "text/plain": [
              "<IPython.core.display.Javascript object>"
            ]
          },
          "metadata": {}
        },
        {
          "output_type": "display_data",
          "data": {
            "application/javascript": [
              "window[\"a539b12c-9dc6-11ec-befc-0242ac1c0002\"] = document.querySelector(\"#id4-0-0\");\n",
              "//# sourceURL=js_b2ddfa3b5b"
            ],
            "text/plain": [
              "<IPython.core.display.Javascript object>"
            ]
          },
          "metadata": {}
        },
        {
          "output_type": "display_data",
          "data": {
            "application/javascript": [
              "window[\"a53a4e02-9dc6-11ec-befc-0242ac1c0002\"] = google.colab.output.setActiveOutputArea(window[\"a539b12c-9dc6-11ec-befc-0242ac1c0002\"]);\n",
              "//# sourceURL=js_36cc76c4d2"
            ],
            "text/plain": [
              "<IPython.core.display.Javascript object>"
            ]
          },
          "metadata": {}
        },
        {
          "output_type": "display_data",
          "data": {
            "application/javascript": [
              "window[\"a5540fc2-9dc6-11ec-befc-0242ac1c0002\"] = google.colab.output.setActiveOutputArea(window[\"a5390b50-9dc6-11ec-befc-0242ac1c0002\"]);\n",
              "//# sourceURL=js_5a9014c2ba"
            ],
            "text/plain": [
              "<IPython.core.display.Javascript object>"
            ]
          },
          "metadata": {}
        },
        {
          "output_type": "display_data",
          "data": {
            "application/javascript": [
              "window[\"a5ef43b6-9dc6-11ec-befc-0242ac1c0002\"] = google.colab.output.getActiveOutputArea();\n",
              "//# sourceURL=js_f74bb4cc2f"
            ],
            "text/plain": [
              "<IPython.core.display.Javascript object>"
            ]
          },
          "metadata": {}
        },
        {
          "output_type": "display_data",
          "data": {
            "application/javascript": [
              "window[\"a5f00a3a-9dc6-11ec-befc-0242ac1c0002\"] = document.querySelector(\"#id4-0-0\");\n",
              "//# sourceURL=js_71355f5cdf"
            ],
            "text/plain": [
              "<IPython.core.display.Javascript object>"
            ]
          },
          "metadata": {}
        },
        {
          "output_type": "display_data",
          "data": {
            "application/javascript": [
              "window[\"a5f07934-9dc6-11ec-befc-0242ac1c0002\"] = google.colab.output.setActiveOutputArea(window[\"a5f00a3a-9dc6-11ec-befc-0242ac1c0002\"]);\n",
              "//# sourceURL=js_2ea3566986"
            ],
            "text/plain": [
              "<IPython.core.display.Javascript object>"
            ]
          },
          "metadata": {}
        },
        {
          "output_type": "display_data",
          "data": {
            "application/javascript": [
              "window[\"a60aab60-9dc6-11ec-befc-0242ac1c0002\"] = google.colab.output.setActiveOutputArea(window[\"a5ef43b6-9dc6-11ec-befc-0242ac1c0002\"]);\n",
              "//# sourceURL=js_ae90c3bbb8"
            ],
            "text/plain": [
              "<IPython.core.display.Javascript object>"
            ]
          },
          "metadata": {}
        },
        {
          "output_type": "display_data",
          "data": {
            "application/javascript": [
              "window[\"a6a72d14-9dc6-11ec-befc-0242ac1c0002\"] = google.colab.output.getActiveOutputArea();\n",
              "//# sourceURL=js_f8bca334e1"
            ],
            "text/plain": [
              "<IPython.core.display.Javascript object>"
            ]
          },
          "metadata": {}
        },
        {
          "output_type": "display_data",
          "data": {
            "application/javascript": [
              "window[\"a6a78296-9dc6-11ec-befc-0242ac1c0002\"] = document.querySelector(\"#id4-0-0\");\n",
              "//# sourceURL=js_07734d7b33"
            ],
            "text/plain": [
              "<IPython.core.display.Javascript object>"
            ]
          },
          "metadata": {}
        },
        {
          "output_type": "display_data",
          "data": {
            "application/javascript": [
              "window[\"a6a85496-9dc6-11ec-befc-0242ac1c0002\"] = google.colab.output.setActiveOutputArea(window[\"a6a78296-9dc6-11ec-befc-0242ac1c0002\"]);\n",
              "//# sourceURL=js_b10c298d20"
            ],
            "text/plain": [
              "<IPython.core.display.Javascript object>"
            ]
          },
          "metadata": {}
        },
        {
          "output_type": "display_data",
          "data": {
            "application/javascript": [
              "window[\"a6c5500a-9dc6-11ec-befc-0242ac1c0002\"] = google.colab.output.setActiveOutputArea(window[\"a6a72d14-9dc6-11ec-befc-0242ac1c0002\"]);\n",
              "//# sourceURL=js_78242b4f4a"
            ],
            "text/plain": [
              "<IPython.core.display.Javascript object>"
            ]
          },
          "metadata": {}
        },
        {
          "output_type": "display_data",
          "data": {
            "application/javascript": [
              "window[\"a76023e6-9dc6-11ec-befc-0242ac1c0002\"] = google.colab.output.getActiveOutputArea();\n",
              "//# sourceURL=js_de3e502151"
            ],
            "text/plain": [
              "<IPython.core.display.Javascript object>"
            ]
          },
          "metadata": {}
        },
        {
          "output_type": "display_data",
          "data": {
            "application/javascript": [
              "window[\"a76086f6-9dc6-11ec-befc-0242ac1c0002\"] = document.querySelector(\"#id4-0-0\");\n",
              "//# sourceURL=js_4a18b3a644"
            ],
            "text/plain": [
              "<IPython.core.display.Javascript object>"
            ]
          },
          "metadata": {}
        },
        {
          "output_type": "display_data",
          "data": {
            "application/javascript": [
              "window[\"a7610374-9dc6-11ec-befc-0242ac1c0002\"] = google.colab.output.setActiveOutputArea(window[\"a76086f6-9dc6-11ec-befc-0242ac1c0002\"]);\n",
              "//# sourceURL=js_275531abcb"
            ],
            "text/plain": [
              "<IPython.core.display.Javascript object>"
            ]
          },
          "metadata": {}
        },
        {
          "output_type": "display_data",
          "data": {
            "application/javascript": [
              "window[\"a77d5e5c-9dc6-11ec-befc-0242ac1c0002\"] = google.colab.output.setActiveOutputArea(window[\"a76023e6-9dc6-11ec-befc-0242ac1c0002\"]);\n",
              "//# sourceURL=js_c66bac31e9"
            ],
            "text/plain": [
              "<IPython.core.display.Javascript object>"
            ]
          },
          "metadata": {}
        },
        {
          "output_type": "display_data",
          "data": {
            "application/javascript": [
              "window[\"a818c356-9dc6-11ec-befc-0242ac1c0002\"] = google.colab.output.getActiveOutputArea();\n",
              "//# sourceURL=js_443c98b3c0"
            ],
            "text/plain": [
              "<IPython.core.display.Javascript object>"
            ]
          },
          "metadata": {}
        },
        {
          "output_type": "display_data",
          "data": {
            "application/javascript": [
              "window[\"a8192c10-9dc6-11ec-befc-0242ac1c0002\"] = document.querySelector(\"#id4-0-0\");\n",
              "//# sourceURL=js_c6b76e52c4"
            ],
            "text/plain": [
              "<IPython.core.display.Javascript object>"
            ]
          },
          "metadata": {}
        },
        {
          "output_type": "display_data",
          "data": {
            "application/javascript": [
              "window[\"a819d124-9dc6-11ec-befc-0242ac1c0002\"] = google.colab.output.setActiveOutputArea(window[\"a8192c10-9dc6-11ec-befc-0242ac1c0002\"]);\n",
              "//# sourceURL=js_a074046305"
            ],
            "text/plain": [
              "<IPython.core.display.Javascript object>"
            ]
          },
          "metadata": {}
        },
        {
          "output_type": "stream",
          "name": "stdout",
          "text": [
            "Reward: -1, Action given: left, Action taken: left\n"
          ]
        },
        {
          "output_type": "display_data",
          "data": {
            "image/png": "[encoded data removed]",
            "text/plain": [
              "<Figure size 432x288 with 1 Axes>"
            ]
          },
          "metadata": {
            "needs_background": "light"
          }
        },
        {
          "output_type": "display_data",
          "data": {
            "application/javascript": [
              "window[\"a8330fae-9dc6-11ec-befc-0242ac1c0002\"] = google.colab.output.setActiveOutputArea(window[\"a818c356-9dc6-11ec-befc-0242ac1c0002\"]);\n",
              "//# sourceURL=js_8dd81e3dbf"
            ],
            "text/plain": [
              "<IPython.core.display.Javascript object>"
            ]
          },
          "metadata": {}
        }
      ]
    },
    {
      "cell_type": "code",
      "source": [
        "actions_given"
      ],
      "metadata": {
        "colab": {
          "base_uri": "https://localhost:8080/"
        },
        "id": "WkqAInCsSi1H",
        "outputId": "16a30afc-c69d-415e-a83f-2b18300fffcd"
      },
      "execution_count": 9,
      "outputs": [
        {
          "output_type": "execute_result",
          "data": {
            "text/plain": [
              "[2, 2, 3, 2, 3, 2, 3, 2, 2, 3]"
            ]
          },
          "metadata": {},
          "execution_count": 9
        }
      ]
    },
    {
      "cell_type": "code",
      "source": [
        "actions_taken"
      ],
      "metadata": {
        "colab": {
          "base_uri": "https://localhost:8080/"
        },
        "id": "RE4tFQJzSpXc",
        "outputId": "096ee5d2-e355-45b0-fa82-1025129f6f67"
      },
      "execution_count": 10,
      "outputs": [
        {
          "output_type": "execute_result",
          "data": {
            "text/plain": [
              "[2, 2, 3, 2, 3, 1, 3, 2, 2, 3]"
            ]
          },
          "metadata": {},
          "execution_count": 10
        }
      ]
    },
    {
      "cell_type": "code",
      "source": [
        "rewards"
      ],
      "metadata": {
        "colab": {
          "base_uri": "https://localhost:8080/"
        },
        "id": "hJqWsxvLSqjc",
        "outputId": "f9fb5b34-3d94-40d6-c0e8-50c79ec52608"
      },
      "execution_count": 11,
      "outputs": [
        {
          "output_type": "execute_result",
          "data": {
            "text/plain": [
              "[1, 1, -1, 1, -1, 0, -1, 1, 1, -1]"
            ]
          },
          "metadata": {},
          "execution_count": 11
        }
      ]
    },
    {
      "cell_type": "markdown",
      "source": [
        "## Q-Learning"
      ],
      "metadata": {
        "id": "jaG1CAyDXHvP"
      }
    },
    {
      "cell_type": "code",
      "source": [
        "class QLearning:\n",
        "\n",
        "    def __init__(self, env):\n",
        "\n",
        "        self.env = env\n",
        "        self.Q = np.zeros((env.observation_space.n, env.action_space.n))\n",
        "        self.train_epsilons = []\n",
        "        self.train_penalties = []\n",
        "        self.train_rewards = []\n",
        "        self.train_total_rewards = []\n",
        "\n",
        "    def train(self, alpha=0.15, gamma = 0.9, episodes = 50):\n",
        "        epsilon = 1 #set initial epsilon\n",
        "\n",
        "        rate_of_decay = 10**(-4/episodes)\n",
        "\n",
        "        t = trange(episodes)\n",
        "\n",
        "        for i in t:\n",
        "\n",
        "            state = self.env.reset()    #reset env\n",
        "\n",
        "            self.env.seed(seed)\n",
        "\n",
        "            state = 5*state[0]+state[1]\n",
        "\n",
        "            done = False\n",
        "\n",
        "            steps = 0\n",
        "            penalties = 0\n",
        "            rewards = 0\n",
        "            total_reward = 0\n",
        "\n",
        "            while not done:\n",
        "\n",
        "                if np.random.uniform(0,1)<epsilon:               #Epsilon greedy policy for exploration strategy\n",
        "                    action = self.env.action_space.sample()      #Explore\n",
        "                else:\n",
        "                    action = np.argmax(self.Q[state])            #Exploit\n",
        "\n",
        "                next_state, reward, done, info = self.env.step(action)  #Do 1 step based on the action chosen\n",
        "\n",
        "                next_state = 5*next_state[0]+next_state[1]              \n",
        "\n",
        "                q_old = self.Q[state, action] \n",
        "\n",
        "                max_q_hat = np.max(self.Q[next_state])\n",
        "\n",
        "                new_q = reward+gamma*max_q_hat\n",
        "\n",
        "                new_q = (1-alpha)*q_old + alpha*new_q\n",
        "\n",
        "                self.Q[state,action] = round(new_q,4)                            #Update Q-table\n",
        "\n",
        "                state = next_state                                      #next state as current state\n",
        "\n",
        "                if reward<0:\n",
        "                    penalties+=1                                        #Store penalties\n",
        "                \n",
        "                rewards += pow(gamma, steps)*reward                     #Discounted reward calculation\n",
        "\n",
        "                total_reward += reward\n",
        "\n",
        "                steps += 1\n",
        "            \n",
        "            self.train_penalties.append(penalties)\n",
        "            self.train_rewards.append(rewards)\n",
        "            self.train_epsilons.append(epsilon)\n",
        "            self.train_total_rewards.append(total_reward)\n",
        "\n",
        "            t.set_postfix(epsilon = epsilon, reward=rewards, timesteps = steps, penalties = penalties)\n",
        "\n",
        "            epsilon = rate_of_decay*epsilon\n",
        "\n",
        "    def evaluate(self, gamma = 0.9):\n",
        "        state = self.env.reset()\n",
        "        self.env.seed(seed)\n",
        "        state = 5*state[0]+state[1]\n",
        "\n",
        "        steps = 0\n",
        "        rewards = 0\n",
        "        penalties = 0\n",
        "\n",
        "        test_rewards = list()\n",
        "        test_steps = list()\n",
        "        test_total_reward = 0\n",
        "\n",
        "        done = False\n",
        "\n",
        "        while not done:\n",
        "\n",
        "            action = np.argmax(self.Q[state])                       #Greedy choice\n",
        "            state, reward, done, info = self.env.step(action)\n",
        "            state = 5*state[0]+state[1]       \n",
        "\n",
        "            if reward<0:\n",
        "              penalties+=1\n",
        "\n",
        "            rewards += pow(gamma, steps)*reward\n",
        "\n",
        "            steps += 1\n",
        "            \n",
        "            test_total_reward += reward\n",
        "\n",
        "            # print(self.env.timestep)\n",
        "\n",
        "            steps += 1\n",
        "\n",
        "            test_steps.append(action)\n",
        "            \n",
        "            test_rewards.append(rewards)\n",
        "\n",
        "        test_penalties = penalties\n",
        "\n",
        "        return penalties, test_rewards, test_steps, test_total_reward"
      ],
      "metadata": {
        "id": "mn114IhIW1cB"
      },
      "execution_count": 12,
      "outputs": []
    },
    {
      "cell_type": "markdown",
      "source": [
        "### Non-Stochastic environment"
      ],
      "metadata": {
        "id": "4VZyyqm5cqmS"
      }
    },
    {
      "cell_type": "code",
      "source": [
        "env = GridEnvironment(max_timesteps = 10)\n",
        "env.seed(50)\n",
        "qlearning = QLearning(env=env)"
      ],
      "metadata": {
        "id": "CVfJZ3nsfCbY"
      },
      "execution_count": 13,
      "outputs": []
    },
    {
      "cell_type": "code",
      "source": [
        "qlearning.train(episodes = 600)"
      ],
      "metadata": {
        "colab": {
          "base_uri": "https://localhost:8080/"
        },
        "id": "e9NAP_yUfZ_b",
        "outputId": "d641dde8-5a1f-4bf2-ab4e-3d41a708bfae"
      },
      "execution_count": 14,
      "outputs": [
        {
          "output_type": "stream",
          "name": "stderr",
          "text": [
            "100%|██████████| 600/600 [00:03<00:00, 190.89it/s, epsilon=0.000102, penalties=0, reward=10.9, timesteps=6]\n"
          ]
        }
      ]
    },
    {
      "cell_type": "code",
      "source": [
        "reslist = list()\n",
        "for _ in range(10):\n",
        "  res = qlearning.evaluate()\n",
        "  env.reset()\n",
        "  for i in range(len(res[2])):\n",
        "    action = res[2][i]\n",
        "    observation, reward, done, info = env.step(action)\n",
        "    # with output_grid.output_to(0,0):\n",
        "    #   output_grid.clear_cell()\n",
        "    #   env.render()\n",
        "    #   print(f'Reward: {reward}, Action given: {action_dict[action]}')\n",
        "    # time.sleep(1)\n",
        "  reslist.append(res[3])"
      ],
      "metadata": {
        "id": "qozp6jgTeWt_"
      },
      "execution_count": 15,
      "outputs": []
    },
    {
      "cell_type": "code",
      "source": [
        "print(f'penalties: {res[0]}')\n",
        "print(f'reward per episode: {res[1]}')\n",
        "print(f'steps: {res[2]}')\n",
        "print(f'total reward: {res[3]}')"
      ],
      "metadata": {
        "colab": {
          "base_uri": "https://localhost:8080/"
        },
        "id": "2iiL8sE9dRu2",
        "outputId": "83c2eb5e-2581-4242-82b8-0a3118b4c24d"
      },
      "execution_count": 16,
      "outputs": [
        {
          "output_type": "stream",
          "name": "stdout",
          "text": [
            "penalties: 0\n",
            "reward per episode: [1.0, 2.62, 3.2761, 3.807541, 4.23800821, 7.724792611000002]\n",
            "steps: [0, 2, 2, 0, 2, 2]\n",
            "total reward: 16\n"
          ]
        }
      ]
    },
    {
      "cell_type": "code",
      "source": [
        "plt.plot(range(len(qlearning.train_rewards)), qlearning.train_rewards)\n",
        "plt.xlabel('Episode')\n",
        "plt.ylabel('Cumulative Reward')"
      ],
      "metadata": {
        "colab": {
          "base_uri": "https://localhost:8080/",
          "height": 296
        },
        "id": "Vo6PXT5vwJ2e",
        "outputId": "0bde3110-20f4-4c65-bea3-a1a61ad0320c"
      },
      "execution_count": 17,
      "outputs": [
        {
          "output_type": "execute_result",
          "data": {
            "text/plain": [
              "Text(0, 0.5, 'Cumulative Reward')"
            ]
          },
          "metadata": {},
          "execution_count": 17
        },
        {
          "output_type": "display_data",
          "data": {
            "image/png": "[encoded data removed]",
            "text/plain": [
              "<Figure size 432x288 with 1 Axes>"
            ]
          },
          "metadata": {
            "needs_background": "light"
          }
        }
      ]
    },
    {
      "cell_type": "code",
      "source": [
        "plt.plot(range(len(qlearning.train_total_rewards)), qlearning.train_total_rewards)\n",
        "plt.xlabel('Episode')\n",
        "plt.ylabel('Total Reward')"
      ],
      "metadata": {
        "colab": {
          "base_uri": "https://localhost:8080/",
          "height": 296
        },
        "id": "sFrYWslBwNvk",
        "outputId": "37de4461-c0d7-4d87-bb2f-e8d36c17a32d"
      },
      "execution_count": 18,
      "outputs": [
        {
          "output_type": "execute_result",
          "data": {
            "text/plain": [
              "Text(0, 0.5, 'Total Reward')"
            ]
          },
          "metadata": {},
          "execution_count": 18
        },
        {
          "output_type": "display_data",
          "data": {
            "image/png": "[encoded data removed]",
            "text/plain": [
              "<Figure size 432x288 with 1 Axes>"
            ]
          },
          "metadata": {
            "needs_background": "light"
          }
        }
      ]
    },
    {
      "cell_type": "code",
      "source": [
        "plt.plot(range(len(qlearning.train_epsilons)), qlearning.train_epsilons)\n",
        "plt.xlabel('Episode')\n",
        "plt.ylabel('Epsilon')"
      ],
      "metadata": {
        "colab": {
          "base_uri": "https://localhost:8080/",
          "height": 296
        },
        "id": "u3OfvCxW01XA",
        "outputId": "dd5dfcae-6e38-441c-b651-311124b235ab"
      },
      "execution_count": 19,
      "outputs": [
        {
          "output_type": "execute_result",
          "data": {
            "text/plain": [
              "Text(0, 0.5, 'Epsilon')"
            ]
          },
          "metadata": {},
          "execution_count": 19
        },
        {
          "output_type": "display_data",
          "data": {
            "image/png": "[encoded data removed]",
            "text/plain": [
              "<Figure size 432x288 with 1 Axes>"
            ]
          },
          "metadata": {
            "needs_background": "light"
          }
        }
      ]
    },
    {
      "cell_type": "code",
      "source": [
        "plt.plot(range(len(res[1])), res[1])\n",
        "plt.xlabel('Steps')\n",
        "plt.ylabel('Reward')"
      ],
      "metadata": {
        "colab": {
          "base_uri": "https://localhost:8080/",
          "height": 299
        },
        "id": "Vi9FEogg6-Dc",
        "outputId": "655977a8-fd94-4a55-fe34-15158e125d07"
      },
      "execution_count": 20,
      "outputs": [
        {
          "output_type": "execute_result",
          "data": {
            "text/plain": [
              "Text(0, 0.5, 'Reward')"
            ]
          },
          "metadata": {},
          "execution_count": 20
        },
        {
          "output_type": "display_data",
          "data": {
            "image/png": "[encoded data removed]",
            "text/plain": [
              "<Figure size 432x288 with 1 Axes>"
            ]
          },
          "metadata": {
            "needs_background": "light"
          }
        }
      ]
    },
    {
      "cell_type": "code",
      "source": [
        "plt.plot(range(len(reslist)), reslist)\n",
        "plt.xlabel('Iteration')\n",
        "plt.ylabel('Total Reward')"
      ],
      "metadata": {
        "colab": {
          "base_uri": "https://localhost:8080/",
          "height": 296
        },
        "id": "1-ZhJQ7MMdme",
        "outputId": "2afdde22-274d-49b5-b62b-dad180963c39"
      },
      "execution_count": 21,
      "outputs": [
        {
          "output_type": "execute_result",
          "data": {
            "text/plain": [
              "Text(0, 0.5, 'Total Reward')"
            ]
          },
          "metadata": {},
          "execution_count": 21
        },
        {
          "output_type": "display_data",
          "data": {
            "image/png": "[encoded data removed]",
            "text/plain": [
              "<Figure size 432x288 with 1 Axes>"
            ]
          },
          "metadata": {
            "needs_background": "light"
          }
        }
      ]
    },
    {
      "cell_type": "markdown",
      "source": [
        "### Stochastic environment"
      ],
      "metadata": {
        "id": "MweC-jaFuU1Y"
      }
    },
    {
      "cell_type": "code",
      "source": [
        "stoch_env = GridEnvironment(stochastic=True, max_timesteps = 10)\n",
        "stoch_env.seed(seed)\n",
        "qlearning_stochastic = QLearning(env=env)\n",
        "qlearning_stochastic.train(episodes=600)"
      ],
      "metadata": {
        "colab": {
          "base_uri": "https://localhost:8080/"
        },
        "id": "VIREbBl2uTrb",
        "outputId": "eee92899-7e48-4305-ada0-126072bc8694"
      },
      "execution_count": 22,
      "outputs": [
        {
          "output_type": "stream",
          "name": "stderr",
          "text": [
            "100%|██████████| 600/600 [00:02<00:00, 207.64it/s, epsilon=0.000102, penalties=0, reward=10.9, timesteps=6]\n"
          ]
        }
      ]
    },
    {
      "cell_type": "code",
      "source": [
        "res = qlearning_stochastic.evaluate()"
      ],
      "metadata": {
        "id": "c4ZvJyKJKalO"
      },
      "execution_count": 23,
      "outputs": []
    },
    {
      "cell_type": "code",
      "source": [
        "print(f'penalties: {res[0]}')\n",
        "print(f'reward per episode: {res[1]}')\n",
        "print(f'steps: {res[2]}')\n",
        "print(f'total reward: {res[3]}')"
      ],
      "metadata": {
        "colab": {
          "base_uri": "https://localhost:8080/"
        },
        "id": "t2dK5r0LKYZE",
        "outputId": "d22e4a3b-4d64-4b44-d35b-2581f4125eee"
      },
      "execution_count": 24,
      "outputs": [
        {
          "output_type": "stream",
          "name": "stdout",
          "text": [
            "penalties: 0\n",
            "reward per episode: [1.0, 2.62, 3.2761, 3.807541, 4.23800821, 7.724792611000002]\n",
            "steps: [2, 0, 2, 0, 2, 2]\n",
            "total reward: 16\n"
          ]
        }
      ]
    },
    {
      "cell_type": "code",
      "source": [
        "reslist = list()\n",
        "for _ in range(10):\n",
        "  res = qlearning_stochastic.evaluate()\n",
        "  stoch_env.reset()\n",
        "  for i in range(len(res[2])):\n",
        "    action = res[2][i]\n",
        "    observation, reward, done, info = stoch_env.step(action)\n",
        "    # action_taken = info['action_taken']\n",
        "    # with output_grid.output_to(0,0):\n",
        "    #   output_grid.clear_cell()\n",
        "    #   stoch_env.render()\n",
        "    #   print(f'Reward: {reward}, Action given: {action_dict[action]}, Action taken: {action_dict[action_taken]}')\n",
        "    # time.sleep(1)\n",
        "  reslist.append(res[3])"
      ],
      "metadata": {
        "id": "JDbe4-OZuh_G"
      },
      "execution_count": 25,
      "outputs": []
    },
    {
      "cell_type": "code",
      "source": [
        "plt.plot(range(len(qlearning_stochastic.train_rewards)), qlearning_stochastic.train_rewards)\n",
        "plt.xlabel('Episode')\n",
        "plt.ylabel('Cumulative Reward')"
      ],
      "metadata": {
        "colab": {
          "base_uri": "https://localhost:8080/",
          "height": 296
        },
        "id": "0z_-K3i2wsIx",
        "outputId": "7b9e2e2c-2a2c-417a-ef26-3bade9dac16c"
      },
      "execution_count": 26,
      "outputs": [
        {
          "output_type": "execute_result",
          "data": {
            "text/plain": [
              "Text(0, 0.5, 'Cumulative Reward')"
            ]
          },
          "metadata": {},
          "execution_count": 26
        },
        {
          "output_type": "display_data",
          "data": {
            "image/png": "[encoded data removed]",
            "text/plain": [
              "<Figure size 432x288 with 1 Axes>"
            ]
          },
          "metadata": {
            "needs_background": "light"
          }
        }
      ]
    },
    {
      "cell_type": "code",
      "source": [
        "plt.plot(range(len(qlearning_stochastic.train_total_rewards)), qlearning_stochastic.train_total_rewards)\n",
        "plt.xlabel('Episode')\n",
        "plt.ylabel('Total Reward')"
      ],
      "metadata": {
        "colab": {
          "base_uri": "https://localhost:8080/",
          "height": 296
        },
        "id": "kg3yorTtwwqg",
        "outputId": "13f9d84d-bf70-4244-b3df-2aaf10d0b1d9"
      },
      "execution_count": 27,
      "outputs": [
        {
          "output_type": "execute_result",
          "data": {
            "text/plain": [
              "Text(0, 0.5, 'Total Reward')"
            ]
          },
          "metadata": {},
          "execution_count": 27
        },
        {
          "output_type": "display_data",
          "data": {
            "image/png": "[encoded data removed]",
            "text/plain": [
              "<Figure size 432x288 with 1 Axes>"
            ]
          },
          "metadata": {
            "needs_background": "light"
          }
        }
      ]
    },
    {
      "cell_type": "code",
      "source": [
        "plt.plot(range(len(qlearning_stochastic.train_epsilons)), qlearning_stochastic.train_epsilons)\n",
        "plt.xlabel('Episode')\n",
        "plt.ylabel('Epsilon')"
      ],
      "metadata": {
        "colab": {
          "base_uri": "https://localhost:8080/",
          "height": 296
        },
        "id": "ogc8gUBSMRj9",
        "outputId": "e33809db-0f8d-441c-9840-e4c7c5595523"
      },
      "execution_count": 28,
      "outputs": [
        {
          "output_type": "execute_result",
          "data": {
            "text/plain": [
              "Text(0, 0.5, 'Epsilon')"
            ]
          },
          "metadata": {},
          "execution_count": 28
        },
        {
          "output_type": "display_data",
          "data": {
            "image/png": "[encoded data removed]",
            "text/plain": [
              "<Figure size 432x288 with 1 Axes>"
            ]
          },
          "metadata": {
            "needs_background": "light"
          }
        }
      ]
    },
    {
      "cell_type": "code",
      "source": [
        "plt.plot(range(len(res[1])), res[1])\n",
        "plt.xlabel('Steps')\n",
        "plt.ylabel('Reward')"
      ],
      "metadata": {
        "colab": {
          "base_uri": "https://localhost:8080/",
          "height": 299
        },
        "id": "4WXAJ-Yv7Dcl",
        "outputId": "df35f19b-8677-40a5-840c-b6979bc626a5"
      },
      "execution_count": 29,
      "outputs": [
        {
          "output_type": "execute_result",
          "data": {
            "text/plain": [
              "Text(0, 0.5, 'Reward')"
            ]
          },
          "metadata": {},
          "execution_count": 29
        },
        {
          "output_type": "display_data",
          "data": {
            "image/png": "[encoded data removed]",
            "text/plain": [
              "<Figure size 432x288 with 1 Axes>"
            ]
          },
          "metadata": {
            "needs_background": "light"
          }
        }
      ]
    },
    {
      "cell_type": "code",
      "source": [
        "plt.plot(range(len(reslist)), reslist)\n",
        "plt.xlabel('Iteration')\n",
        "plt.ylabel('Total Reward')"
      ],
      "metadata": {
        "colab": {
          "base_uri": "https://localhost:8080/",
          "height": 296
        },
        "id": "eXzhYm6MMXID",
        "outputId": "194ab895-087e-4130-96c2-1ebf47de321f"
      },
      "execution_count": 30,
      "outputs": [
        {
          "output_type": "execute_result",
          "data": {
            "text/plain": [
              "Text(0, 0.5, 'Total Reward')"
            ]
          },
          "metadata": {},
          "execution_count": 30
        },
        {
          "output_type": "display_data",
          "data": {
            "image/png": "[encoded data removed]",
            "text/plain": [
              "<Figure size 432x288 with 1 Axes>"
            ]
          },
          "metadata": {
            "needs_background": "light"
          }
        }
      ]
    },
    {
      "cell_type": "markdown",
      "source": [
        "## Double Q-Learning"
      ],
      "metadata": {
        "id": "In4g8ZHnQ2sR"
      }
    },
    {
      "cell_type": "code",
      "source": [
        "class DoubleQLearning:\n",
        "\n",
        "    def __init__(self, env):\n",
        "\n",
        "        self.env = env\n",
        "        self.Q1 = np.zeros((env.observation_space.n, env.action_space.n))\n",
        "        self.Q2 = np.zeros((env.observation_space.n, env.action_space.n))\n",
        "        self.train_epsilons = list()\n",
        "        self.train_penalties = list()\n",
        "        self.train_rewards = list()\n",
        "        self.train_total_rewards = list()\n",
        "\n",
        "    def train(self, alpha=0.15, gamma = 0.9, episodes = 50):\n",
        "        epsilon = 1 #set initial epsilon\n",
        "\n",
        "        rate_of_decay = 10**(-4/episodes)\n",
        "\n",
        "        t = trange(episodes)\n",
        "\n",
        "        for i in t:\n",
        "\n",
        "            state = self.env.reset()    #reset env\n",
        "\n",
        "            self.env.seed(seed)\n",
        "\n",
        "            state = 5*state[0]+state[1]\n",
        "\n",
        "            done = False\n",
        "\n",
        "            steps = 0\n",
        "            penalties = 0\n",
        "            rewards = 0\n",
        "            total_reward = 0\n",
        "\n",
        "            while not done:\n",
        "              if(np.random.uniform(0,1)<0.5):\n",
        "                if np.random.uniform(0,1)<epsilon:               #Epsilon greedy policy for exploration strategy\n",
        "                  action = self.env.action_space.sample()      #Explore\n",
        "\n",
        "                else:\n",
        "                  action = np.argmax(self.Q1[state])\n",
        "                \n",
        "                next_state, reward, done, info = self.env.step(action)  #Do 1 step based on the action chosen\n",
        "\n",
        "                next_state = 5*next_state[0]+next_state[1]              \n",
        "\n",
        "                q_old = self.Q1[state, action] \n",
        "\n",
        "                max_q_hat = np.max(self.Q2[next_state])\n",
        "\n",
        "                new_q = reward+gamma*max_q_hat\n",
        "\n",
        "                new_q = (1-alpha)*q_old + alpha*new_q\n",
        "\n",
        "                self.Q1[state,action] = new_q                            #Update Q1-table\n",
        "\n",
        "                state = next_state                                      #next state as current state\n",
        "\n",
        "                if reward<0:\n",
        "                  penalties+=1                                        #Store penalties\n",
        "              \n",
        "                rewards += pow(gamma, steps)*reward                     #Discounted reward calculation\n",
        "\n",
        "                total_reward += reward\n",
        "\n",
        "                steps += 1\n",
        "\n",
        "              else:\n",
        "                if np.random.uniform(0,1)<epsilon:               #Epsilon greedy policy for exploration strategy\n",
        "                  action = self.env.action_space.sample()        #Explore\n",
        "\n",
        "                else:\n",
        "                  action = np.argmax(self.Q2[state])\n",
        "                \n",
        "                next_state, reward, done, info = self.env.step(action)  #Do 1 step based on the action chosen\n",
        "\n",
        "                next_state = 5*next_state[0]+next_state[1]              \n",
        "\n",
        "                q_old = self.Q2[state, action] \n",
        "\n",
        "                max_q_hat = np.max(self.Q1[next_state])\n",
        "\n",
        "                new_q = reward+gamma*max_q_hat\n",
        "\n",
        "                new_q = (1-alpha)*q_old + alpha*new_q\n",
        "\n",
        "                self.Q2[state,action] = new_q                           #Update Q2-table\n",
        "\n",
        "                state = next_state                                      #next state as current state\n",
        "\n",
        "                if reward<0:\n",
        "                  penalties+=1                                        #Store penalties\n",
        "                \n",
        "                rewards += pow(gamma, steps)*reward                     #Discounted reward calculation\n",
        "\n",
        "                total_reward += reward\n",
        "\n",
        "                steps += 1\n",
        "            \n",
        "            self.train_penalties.append(penalties)\n",
        "            self.train_rewards.append(rewards)\n",
        "            self.train_epsilons.append(epsilon)\n",
        "            self.train_total_rewards.append(total_reward)\n",
        "\n",
        "            t.set_postfix(epsilon = epsilon, reward=rewards, timesteps = steps, penalties = penalties)\n",
        "\n",
        "            epsilon = rate_of_decay*epsilon\n",
        "\n",
        "    def evaluate(self, table = 'Q1', gamma = 0.9):\n",
        "\n",
        "        self.env.train = False\n",
        "        state = self.env.reset()\n",
        "        self.env.seed(seed)\n",
        "        state = 5*state[0]+state[1]\n",
        "        test_penalties = 0\n",
        "        test_rewards = list()\n",
        "        test_steps = list()\n",
        "        test_total_reward = 0\n",
        "\n",
        "        steps = 0\n",
        "        rewards = 0\n",
        "        penalties = 0\n",
        "\n",
        "        done = False\n",
        "\n",
        "        while not done:\n",
        "            if(table=='Q2'):\n",
        "              action = np.argmax(self.Q2[state])                       #Greedy choice\n",
        "            elif(table=='Q1'):\n",
        "              action = np.argmax(self.Q1[state])                       #Greedy choice\n",
        "            else:\n",
        "              print('Give correct input: {\\'Q1\\', \\'Q2\\'}')\n",
        "            state, reward, done, info = self.env.step(action)  \n",
        "            state = 5*state[0]+state[1]     \n",
        "\n",
        "            if reward<0:\n",
        "                    penalties+=1\n",
        "\n",
        "            rewards += pow(gamma, steps)*reward\n",
        "\n",
        "            test_total_reward += reward\n",
        "\n",
        "            # print(self.env.timestep)\n",
        "\n",
        "            steps += 1\n",
        "\n",
        "            test_steps.append(action)\n",
        "            \n",
        "            test_rewards.append(rewards)\n",
        "\n",
        "        test_penalties = penalties\n",
        "\n",
        "        return penalties, test_rewards, test_steps, test_total_reward"
      ],
      "metadata": {
        "id": "yDzGkfjJm9TD"
      },
      "execution_count": 31,
      "outputs": []
    },
    {
      "cell_type": "markdown",
      "source": [
        "### Non-Stochastic"
      ],
      "metadata": {
        "id": "coc3sUqgv_6y"
      }
    },
    {
      "cell_type": "code",
      "source": [
        "new_env = GridEnvironment(max_timesteps = 10)\n",
        "new_env.seed(seed)\n",
        "dqlearning = DoubleQLearning(new_env)\n",
        "dqlearning.__init__(new_env)\n",
        "dqlearning.train(episodes = 600)"
      ],
      "metadata": {
        "colab": {
          "base_uri": "https://localhost:8080/"
        },
        "id": "2MjZFJZ1SgHu",
        "outputId": "79f43b20-67f6-4345-fc7a-42b4a4b5d5b6"
      },
      "execution_count": 32,
      "outputs": [
        {
          "output_type": "stream",
          "name": "stderr",
          "text": [
            "100%|██████████| 600/600 [00:03<00:00, 191.04it/s, epsilon=0.000102, penalties=0, reward=10.2, timesteps=7]\n"
          ]
        }
      ]
    },
    {
      "cell_type": "code",
      "source": [
        "res = dqlearning.evaluate()"
      ],
      "metadata": {
        "id": "GfAywg7upgkD"
      },
      "execution_count": 33,
      "outputs": []
    },
    {
      "cell_type": "code",
      "source": [
        "print(f'penalties: {res[0]}')\n",
        "print(f'reward per episode: {res[1]}')\n",
        "print(f'steps: {res[2]}')\n",
        "print(f'total reward: {res[3]}')"
      ],
      "metadata": {
        "colab": {
          "base_uri": "https://localhost:8080/"
        },
        "id": "H---sP5yqF1I",
        "outputId": "e0388432-0be4-4c09-ffce-f30b0edabfce"
      },
      "execution_count": 34,
      "outputs": [
        {
          "output_type": "stream",
          "name": "stdout",
          "text": [
            "penalties: 0\n",
            "reward per episode: [1.0, 2.8, 3.61, 4.339, 4.995100000000001, 10.900000000000002]\n",
            "steps: [0, 2, 2, 0, 2, 2]\n",
            "total reward: 16\n"
          ]
        }
      ]
    },
    {
      "cell_type": "code",
      "source": [
        "reslist = list()\n",
        "for _ in range(10):\n",
        "  res = dqlearning.evaluate()\n",
        "  new_env.reset()\n",
        "  for i in range(len(res[2])):\n",
        "    action = res[2][i]\n",
        "    observation, reward, done, info = new_env.step(action)\n",
        "    # with output_grid.output_to(0,0):\n",
        "    #   output_grid.clear_cell()\n",
        "    #   new_env.render()\n",
        "    #   print(f'Reward: {reward}, Action given: {action_dict[action]}, Done: {done}')\n",
        "    # time.sleep(1)\n",
        "  reslist.append(res[3])"
      ],
      "metadata": {
        "id": "UiwVhqnLZRx1"
      },
      "execution_count": 35,
      "outputs": []
    },
    {
      "cell_type": "code",
      "source": [
        "plt.plot(range(len(dqlearning.train_rewards)), dqlearning.train_rewards)\n",
        "plt.xlabel('Episode')\n",
        "plt.ylabel('Cumulative Reward')"
      ],
      "metadata": {
        "colab": {
          "base_uri": "https://localhost:8080/",
          "height": 296
        },
        "id": "tEGHsM3b12ab",
        "outputId": "1f68221c-3ae9-44de-b069-37445526492c"
      },
      "execution_count": 36,
      "outputs": [
        {
          "output_type": "execute_result",
          "data": {
            "text/plain": [
              "Text(0, 0.5, 'Cumulative Reward')"
            ]
          },
          "metadata": {},
          "execution_count": 36
        },
        {
          "output_type": "display_data",
          "data": {
            "image/png": "[encoded data removed]",
            "text/plain": [
              "<Figure size 432x288 with 1 Axes>"
            ]
          },
          "metadata": {
            "needs_background": "light"
          }
        }
      ]
    },
    {
      "cell_type": "code",
      "source": [
        "plt.plot(range(len(dqlearning.train_total_rewards)), dqlearning.train_total_rewards)\n",
        "plt.xlabel('Episode')\n",
        "plt.ylabel('Total Reward')"
      ],
      "metadata": {
        "colab": {
          "base_uri": "https://localhost:8080/",
          "height": 296
        },
        "id": "p-AmZRZU2WNZ",
        "outputId": "6d6721df-330a-41a9-d88d-1eaabcd15e1b"
      },
      "execution_count": 37,
      "outputs": [
        {
          "output_type": "execute_result",
          "data": {
            "text/plain": [
              "Text(0, 0.5, 'Total Reward')"
            ]
          },
          "metadata": {},
          "execution_count": 37
        },
        {
          "output_type": "display_data",
          "data": {
            "image/png": "[encoded data removed]",
            "text/plain": [
              "<Figure size 432x288 with 1 Axes>"
            ]
          },
          "metadata": {
            "needs_background": "light"
          }
        }
      ]
    },
    {
      "cell_type": "code",
      "source": [
        "plt.plot(range(len(dqlearning.train_epsilons)), dqlearning.train_epsilons)\n",
        "plt.xlabel('Episode')\n",
        "plt.ylabel('Epsilon')\n"
      ],
      "metadata": {
        "colab": {
          "base_uri": "https://localhost:8080/",
          "height": 296
        },
        "id": "GByeHYd52aYb",
        "outputId": "5a1f8f16-a0ad-4e7d-97a6-2842b069e0f9"
      },
      "execution_count": 38,
      "outputs": [
        {
          "output_type": "execute_result",
          "data": {
            "text/plain": [
              "Text(0, 0.5, 'Epsilon')"
            ]
          },
          "metadata": {},
          "execution_count": 38
        },
        {
          "output_type": "display_data",
          "data": {
            "image/png": "[encoded data removed]",
            "text/plain": [
              "<Figure size 432x288 with 1 Axes>"
            ]
          },
          "metadata": {
            "needs_background": "light"
          }
        }
      ]
    },
    {
      "cell_type": "code",
      "source": [
        "plt.plot(range(len(res[1])), res[1])\n",
        "plt.xlabel('Step')\n",
        "plt.ylabel('Reward')"
      ],
      "metadata": {
        "colab": {
          "base_uri": "https://localhost:8080/",
          "height": 296
        },
        "id": "vQjlMk_0f0pT",
        "outputId": "f17a7366-2c87-4488-f6a9-594857b20698"
      },
      "execution_count": 39,
      "outputs": [
        {
          "output_type": "execute_result",
          "data": {
            "text/plain": [
              "Text(0, 0.5, 'Reward')"
            ]
          },
          "metadata": {},
          "execution_count": 39
        },
        {
          "output_type": "display_data",
          "data": {
            "image/png": "[encoded data removed]",
            "text/plain": [
              "<Figure size 432x288 with 1 Axes>"
            ]
          },
          "metadata": {
            "needs_background": "light"
          }
        }
      ]
    },
    {
      "cell_type": "code",
      "source": [
        "plt.plot(range(len(reslist)), reslist)\n",
        "plt.xlabel('Iteration')\n",
        "plt.ylabel('Total Reward')"
      ],
      "metadata": {
        "colab": {
          "base_uri": "https://localhost:8080/",
          "height": 296
        },
        "id": "hEd6vB8MMftq",
        "outputId": "c1259212-9fd5-4255-87a5-e9d5b3184bdb"
      },
      "execution_count": 40,
      "outputs": [
        {
          "output_type": "execute_result",
          "data": {
            "text/plain": [
              "Text(0, 0.5, 'Total Reward')"
            ]
          },
          "metadata": {},
          "execution_count": 40
        },
        {
          "output_type": "display_data",
          "data": {
            "image/png": "[encoded data removed]",
            "text/plain": [
              "<Figure size 432x288 with 1 Axes>"
            ]
          },
          "metadata": {
            "needs_background": "light"
          }
        }
      ]
    },
    {
      "cell_type": "markdown",
      "source": [
        "### Stochastic"
      ],
      "metadata": {
        "id": "XW6SSFTqwHAy"
      }
    },
    {
      "cell_type": "code",
      "source": [
        "stoch_new_env = GridEnvironment(stochastic=True, max_timesteps = 10)\n",
        "stoch_new_env.seed(seed)\n",
        "dqlearning_stochastic = DoubleQLearning(env=stoch_new_env)\n",
        "dqlearning_stochastic.__init__(stoch_new_env)\n",
        "dqlearning_stochastic.train(episodes = 600)\n",
        "res = dqlearning_stochastic.evaluate()"
      ],
      "metadata": {
        "colab": {
          "base_uri": "https://localhost:8080/"
        },
        "id": "RQG2VGzwrzvT",
        "outputId": "78c5f724-a7e7-4b68-86fc-944e94163cce"
      },
      "execution_count": 51,
      "outputs": [
        {
          "output_type": "stream",
          "name": "stderr",
          "text": [
            "100%|██████████| 600/600 [00:03<00:00, 184.63it/s, epsilon=0.000102, penalties=0, reward=10.9, timesteps=6]\n"
          ]
        }
      ]
    },
    {
      "cell_type": "code",
      "source": [
        "print(f'penalties: {res[0]}')\n",
        "print(f'reward per episode: {res[1]}')\n",
        "print(f'steps: {res[2]}')\n",
        "print(f'total reward: {res[3]}')"
      ],
      "metadata": {
        "colab": {
          "base_uri": "https://localhost:8080/"
        },
        "id": "HWtyrntLHpBV",
        "outputId": "521428eb-af2b-449a-e199-3ba5d4710ebd"
      },
      "execution_count": 52,
      "outputs": [
        {
          "output_type": "stream",
          "name": "stdout",
          "text": [
            "penalties: 0\n",
            "reward per episode: [1.0, 2.8, 3.61, 4.339, 4.995100000000001, 10.900000000000002]\n",
            "steps: [2, 0, 2, 0, 2, 2]\n",
            "total reward: 16\n"
          ]
        }
      ]
    },
    {
      "cell_type": "code",
      "source": [
        "reslist = list()\n",
        "for _ in range(10):\n",
        "  res = dqlearning_stochastic.evaluate()\n",
        "  stoch_new_env.reset()\n",
        "  for i in range(len(res[2])):\n",
        "    action = res[2][i]\n",
        "    observation, reward, done, info = stoch_new_env.step(action)\n",
        "    # with output_grid.output_to(0,0):\n",
        "    #   output_grid.clear_cell()\n",
        "    #   stoch_env.render()\n",
        "    #   print(f'Reward: {reward}, Action given: {action_dict[action]}')\n",
        "    # time.sleep(1)\n",
        "  reslist.append(res[3])"
      ],
      "metadata": {
        "id": "efWDJbZwwWTH"
      },
      "execution_count": 53,
      "outputs": []
    },
    {
      "cell_type": "code",
      "source": [
        "plt.plot(range(len(dqlearning_stochastic.train_rewards)), dqlearning_stochastic.train_rewards)\n",
        "plt.xlabel('Episode')\n",
        "plt.ylabel('Cumulative Reward')"
      ],
      "metadata": {
        "colab": {
          "base_uri": "https://localhost:8080/",
          "height": 296
        },
        "id": "3H0eOMi42l7G",
        "outputId": "b8723593-d6b2-43aa-9187-135ac7b6658a"
      },
      "execution_count": 54,
      "outputs": [
        {
          "output_type": "execute_result",
          "data": {
            "text/plain": [
              "Text(0, 0.5, 'Cumulative Reward')"
            ]
          },
          "metadata": {},
          "execution_count": 54
        },
        {
          "output_type": "display_data",
          "data": {
            "image/png": "[encoded data removed]",
            "text/plain": [
              "<Figure size 432x288 with 1 Axes>"
            ]
          },
          "metadata": {
            "needs_background": "light"
          }
        }
      ]
    },
    {
      "cell_type": "code",
      "source": [
        "plt.plot(range(len(dqlearning_stochastic.train_total_rewards)), dqlearning_stochastic.train_total_rewards)\n",
        "plt.xlabel('Episode')\n",
        "plt.ylabel('Total Reward')"
      ],
      "metadata": {
        "colab": {
          "base_uri": "https://localhost:8080/",
          "height": 296
        },
        "id": "ZK_ZpAFx2rQU",
        "outputId": "2ece579f-3a36-4d99-8e0e-3227aa3ecd06"
      },
      "execution_count": 55,
      "outputs": [
        {
          "output_type": "execute_result",
          "data": {
            "text/plain": [
              "Text(0, 0.5, 'Total Reward')"
            ]
          },
          "metadata": {},
          "execution_count": 55
        },
        {
          "output_type": "display_data",
          "data": {
            "image/png": "[encoded data removed]",
            "text/plain": [
              "<Figure size 432x288 with 1 Axes>"
            ]
          },
          "metadata": {
            "needs_background": "light"
          }
        }
      ]
    },
    {
      "cell_type": "code",
      "source": [
        "plt.plot(range(len(dqlearning_stochastic.train_epsilons)), dqlearning_stochastic.train_epsilons)\n",
        "plt.xlabel('Episode')\n",
        "plt.ylabel('Epsilon')"
      ],
      "metadata": {
        "colab": {
          "base_uri": "https://localhost:8080/",
          "height": 296
        },
        "id": "DlCULlXq2s5t",
        "outputId": "6579b272-2b57-426f-805e-68699d287e1a"
      },
      "execution_count": 56,
      "outputs": [
        {
          "output_type": "execute_result",
          "data": {
            "text/plain": [
              "Text(0, 0.5, 'Epsilon')"
            ]
          },
          "metadata": {},
          "execution_count": 56
        },
        {
          "output_type": "display_data",
          "data": {
            "image/png": "[encoded data removed]",
            "text/plain": [
              "<Figure size 432x288 with 1 Axes>"
            ]
          },
          "metadata": {
            "needs_background": "light"
          }
        }
      ]
    },
    {
      "cell_type": "code",
      "source": [
        "plt.plot(range(len(res[1])), res[1])\n",
        "plt.xlabel('Step')\n",
        "plt.ylabel('Reward')"
      ],
      "metadata": {
        "colab": {
          "base_uri": "https://localhost:8080/",
          "height": 296
        },
        "id": "M1SSDY7oxUEl",
        "outputId": "d8a3c026-fde3-4784-8df3-dbb17144a4d8"
      },
      "execution_count": 57,
      "outputs": [
        {
          "output_type": "execute_result",
          "data": {
            "text/plain": [
              "Text(0, 0.5, 'Reward')"
            ]
          },
          "metadata": {},
          "execution_count": 57
        },
        {
          "output_type": "display_data",
          "data": {
            "image/png": "[encoded data removed]",
            "text/plain": [
              "<Figure size 432x288 with 1 Axes>"
            ]
          },
          "metadata": {
            "needs_background": "light"
          }
        }
      ]
    },
    {
      "cell_type": "code",
      "source": [
        "plt.plot(range(len(reslist)), reslist)\n",
        "plt.xlabel('Iteration')\n",
        "plt.ylabel('Total Reward')"
      ],
      "metadata": {
        "colab": {
          "base_uri": "https://localhost:8080/",
          "height": 296
        },
        "id": "uf54qb_hOC9U",
        "outputId": "f54e03c6-3108-4272-b316-9b1c2f41ca47"
      },
      "execution_count": 58,
      "outputs": [
        {
          "output_type": "execute_result",
          "data": {
            "text/plain": [
              "Text(0, 0.5, 'Total Reward')"
            ]
          },
          "metadata": {},
          "execution_count": 58
        },
        {
          "output_type": "display_data",
          "data": {
            "image/png": "[encoded data removed]",
            "text/plain": [
              "<Figure size 432x288 with 1 Axes>"
            ]
          },
          "metadata": {
            "needs_background": "light"
          }
        }
      ]
    },
    {
      "cell_type": "markdown",
      "source": [
        "## Q-learning vs Double Q-learning"
      ],
      "metadata": {
        "id": "5l0wRL6LKHUi"
      }
    },
    {
      "cell_type": "code",
      "source": [
        "plt.plot(range(len(qlearning.train_rewards)), qlearning.train_rewards, label = 'Q-Learning')\n",
        "plt.plot(range(len(dqlearning.train_rewards)), dqlearning.train_rewards, label = 'Double Q-Learning')\n",
        "plt.xlabel('Episode')\n",
        "plt.ylabel('Cumulative Reward')\n",
        "plt.legend()"
      ],
      "metadata": {
        "colab": {
          "base_uri": "https://localhost:8080/",
          "height": 296
        },
        "id": "q0Xjb-tnXWhZ",
        "outputId": "a717657d-f4c4-46de-93bc-c8ceedd83e00"
      },
      "execution_count": 49,
      "outputs": [
        {
          "output_type": "execute_result",
          "data": {
            "text/plain": [
              "<matplotlib.legend.Legend at 0x7efd53d53a50>"
            ]
          },
          "metadata": {},
          "execution_count": 49
        },
        {
          "output_type": "display_data",
          "data": {
            "image/png": "[encoded data removed]",
            "text/plain": [
              "<Figure size 432x288 with 1 Axes>"
            ]
          },
          "metadata": {
            "needs_background": "light"
          }
        }
      ]
    },
    {
      "cell_type": "code",
      "source": [
        "plt.plot(range(len(qlearning_stochastic.train_rewards)), qlearning_stochastic.train_rewards, label = 'Q-Learning')\n",
        "plt.plot(range(len(dqlearning_stochastic.train_rewards)), dqlearning_stochastic.train_rewards, label = 'Double Q-Learning')\n",
        "plt.xlabel('Episode')\n",
        "plt.ylabel('Cumulative Reward')\n",
        "plt.legend()"
      ],
      "metadata": {
        "colab": {
          "base_uri": "https://localhost:8080/",
          "height": 296
        },
        "id": "1S-kqU_JKGy4",
        "outputId": "3ade855a-ea45-49ea-8ce3-9877908ad66a"
      },
      "execution_count": 50,
      "outputs": [
        {
          "output_type": "execute_result",
          "data": {
            "text/plain": [
              "<matplotlib.legend.Legend at 0x7efd53ccea50>"
            ]
          },
          "metadata": {},
          "execution_count": 50
        },
        {
          "output_type": "display_data",
          "data": {
            "image/png": "[encoded data removed]",
            "text/plain": [
              "<Figure size 432x288 with 1 Axes>"
            ]
          },
          "metadata": {
            "needs_background": "light"
          }
        }
      ]
    },
    {
      "cell_type": "code",
      "source": [
        ""
      ],
      "metadata": {
        "id": "-jyJoraobKK8"
      },
      "execution_count": null,
      "outputs": []
    }
  ]
}